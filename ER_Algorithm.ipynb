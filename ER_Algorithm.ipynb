{
 "cells": [
  {
   "cell_type": "markdown",
   "id": "791eed2b",
   "metadata": {},
   "source": [
    "# Implementation of the ER (Event Rejection) algorithm for four-jet signatures"
   ]
  },
  {
   "cell_type": "code",
   "execution_count": 1,
   "id": "aa8beec3",
   "metadata": {},
   "outputs": [],
   "source": [
    "from turtle import title\n",
    "from h5py import File\n",
    "import matplotlib as mpl\n",
    "import matplotlib.pyplot as plt\n",
    "import numpy as np\n",
    "import math"
   ]
  },
  {
   "cell_type": "code",
   "execution_count": 2,
   "id": "64ca5980",
   "metadata": {},
   "outputs": [
    {
     "name": "stdout",
     "output_type": "stream",
     "text": [
      "List of available datasets: ['jets', 'super_tracks', 'super_tracks_associated', 'super_tracks_fixed_cone']\n"
     ]
    }
   ],
   "source": [
    "#Opening the HDF5 File\n",
    "input_file = \"../user.maboelel.32438279._000005.output.h5\"\n",
    "#input_file = \"../forked_TDD/run/EBdata_Output_Dump/output.h5\"\n",
    "data = File(input_file, 'r')\n",
    "print(\"List of available datasets: \" + str(list(data.keys())))"
   ]
  },
  {
   "cell_type": "code",
   "execution_count": 3,
   "id": "03c63ded",
   "metadata": {},
   "outputs": [
    {
     "name": "stdout",
     "output_type": "stream",
     "text": [
      "The attributes of each element of the dataset (jets): dict_keys(['pt', 'HadronConeExclTruthLabelPt', 'n_tracks_nn', 'eta', 'fastDips_pb', 'fastDips_pc', 'fastDips_pu', 'dipz_z', 'dipz_negLogSigma2', 'HadronConeExclTruthLabelID', 'HadronConeExclExtendedTruthLabelID', 'jetPtRank', 'n_super_tracks', 'n_super_tracks_associated', 'n_super_tracks_fixed_cone', 'mcEventWeight', 'eventNumber', 'averageInteractionsPerCrossing', 'actualInteractionsPerCrossing', 'nPrimaryVertices', 'primaryVertexDetectorZ', 'primaryVertexDetectorZUncertainty'])\n",
      "The shape of the dataset is: (165789,)\n"
     ]
    }
   ],
   "source": [
    "#Accessing the 'Jets' Dataset\n",
    "jets = data['jets']\n",
    "print(\"The attributes of each element of the dataset (jets): \" + str(jets.dtype.fields.keys()))\n",
    "print(\"The shape of the dataset is: \" + str(jets.shape))"
   ]
  },
  {
   "cell_type": "code",
   "execution_count": 4,
   "id": "be3aa850-bb71-4f57-8866-589cabc3abea",
   "metadata": {},
   "outputs": [
    {
     "name": "stdout",
     "output_type": "stream",
     "text": [
      "The number of events in our sample is: 39716\n",
      "The events_ID array looks like: [3301001 3301002 3301003 ... 4872998 4872999 4873000]\n"
     ]
    }
   ],
   "source": [
    "#Getting the events in our sample\n",
    "uniques = np.unique(jets[\"eventNumber\"])\n",
    "print(\"The number of events in our sample is: \" + str(len(uniques)))\n",
    "print(\"The events_ID array looks like: \" + str(uniques))"
   ]
  },
  {
   "cell_type": "code",
   "execution_count": 5,
   "id": "0cbd1e0a-caa8-48dc-a037-8542106b6654",
   "metadata": {},
   "outputs": [
    {
     "data": {
      "image/png": "[encoded data removed]",
      "text/plain": [
       "<Figure size 640x480 with 1 Axes>"
      ]
     },
     "metadata": {},
     "output_type": "display_data"
    }
   ],
   "source": [
    "# Visualizing the jets in one event\n",
    "event_id = uniques[3]\n",
    "event_jets = jets[jets[\"eventNumber\"] == event_id]\n",
    "num_jets = len(event_jets)\n",
    "\n",
    "import matplotlib.pyplot as plt\n",
    "from scipy.stats import norm\n",
    "import random\n",
    "#Generating random colors for  the plot\n",
    "color=[\"#\"+''.join([random.choice('0123456789ABCDEF') for i in range(6)])\n",
    "           for j in range(num_jets)]\n",
    "ic = 0      #color counter\n",
    "x = np.arange(-4*50, 4*50, 0.1)\n",
    "\n",
    "for i in range(num_jets):\n",
    "    #plt.plot(x, norm.pdf(x, event_jets[i][\"dipz20230223_z\"], np.exp(-0.5*event_jets[i][\"dipz20230223_negLogSigma2\"])), color=color[ic], linewidth=2, label='Jet '+str(ic))\n",
    "    plt.plot(x, norm.pdf(x, event_jets[i][\"dipz_z\"]*50, np.exp(-0.5*event_jets[i][\"dipz_negLogSigma2\"])), color=color[ic], linewidth=2, label='Jet '+str(ic))\n",
    "    ic = ic + 1    \n",
    "plt.xlabel(\"z (mm)\", loc='right')\n",
    "plt.title('The regressed z-position of some jets')\n",
    "plt.xlim([-4*50, 4*50])\n",
    "plt.legend()\n",
    "plt.show()\n",
    "#plt.cla()"
   ]
  },
  {
   "cell_type": "code",
   "execution_count": 6,
   "id": "ef42c371-540a-44e0-8b1c-33726680060c",
   "metadata": {},
   "outputs": [
    {
     "name": "stdout",
     "output_type": "stream",
     "text": [
      "CPU times: user 889 ms, sys: 0 ns, total: 889 ms\n",
      "Wall time: 888 ms\n"
     ]
    }
   ],
   "source": [
    "%%time\n",
    "\n",
    "#Filtering the four-or-more jet events\n",
    "fom_events = []\n",
    "counter = 0\n",
    "\n",
    "for id in uniques:\n",
    "    if len(jets[jets[\"eventNumber\"] == id]) >= 4:\n",
    "        fom_events.append(id)\n",
    "        counter +=1\n",
    "    if counter == 10:\n",
    "        break"
   ]
  },
  {
   "cell_type": "code",
   "execution_count": 7,
   "id": "ee00db2c-fa25-4816-8955-c0ba77022c5b",
   "metadata": {},
   "outputs": [
    {
     "name": "stdout",
     "output_type": "stream",
     "text": [
      "hi\n",
      "[('a', 'b', 'c', 'd'), ('a', 'b', 'c', 'e'), ('a', 'b', 'd', 'e'), ('a', 'c', 'd', 'e'), ('b', 'c', 'd', 'e')]\n",
      "CPU times: user 53 µs, sys: 0 ns, total: 53 µs\n",
      "Wall time: 47.2 µs\n"
     ]
    }
   ],
   "source": [
    "%%time\n",
    "\n",
    "import itertools as it\n",
    "\n",
    "#list = jets[jets[\"eventNumber\"] == fom_events[6]]\n",
    "\n",
    "list = ['a', 'b', 'c', 'd', 'e']\n",
    "\n",
    "combinations = []\n",
    "\n",
    "for combination in it.combinations(list, 4):\n",
    "    combinations.append(combination)\n",
    "    \n",
    "for comb in combinations:\n",
    "    for jet in comb:\n",
    "        print(\"hi\")\n",
    "        break\n",
    "    break\n",
    "\n",
    "print(combinations)"
   ]
  },
  {
   "cell_type": "code",
   "execution_count": 8,
   "id": "d211ad82-d881-45c5-af4a-7c4537e6c0ac",
   "metadata": {},
   "outputs": [],
   "source": [
    "# A function that takes in the event number and calculates the maximum over 4-jet combinations of log of the product of the \n",
    "# likelihood functions of all the jets in the event NUMERICALLY\n",
    "import itertools as it\n",
    "\n",
    "def get_max_log_likelihood_num(event_id):\n",
    "    event_jets = jets[jets[\"eventNumber\"] == event_id]\n",
    "    #num_jets = len(event_jets)\n",
    "    z = np.arange(-5*50, 5*50, 0.1)\n",
    "\n",
    "    combinations = []\n",
    "    mlpl_array = []\n",
    "\n",
    "    for combination in it.combinations(event_jets, 4):\n",
    "        combinations.append(combination)\n",
    "\n",
    "    for comb in combinations:\n",
    "        log_total_likelihood = -4 * np.log(np.sqrt(2*np.pi))\n",
    "            \n",
    "        for jet in comb:\n",
    "            mu = jet[\"dipz_z\"] * 50\n",
    "            sigma = np.exp(-0.5*jet[\"dipz_negLogSigma2\"]) *50\n",
    "            #likelihood = (2*np.pi)**(-1/2) * (sigma)**(-1) * np.exp( -1 * (z - mu)**2 * (2 * sigma^2)**(-1) )\n",
    "            log_total_likelihood -= ( np.log(sigma) + (z - mu)**2 * (2 * sigma**(2))**(-1) )\n",
    "    \n",
    "        mlpl_array.append(max(log_total_likelihood))\n",
    "            \n",
    "    \n",
    "    max_log_likelihood = max(mlpl_array)\n",
    "        \n",
    "    return max_log_likelihood"
   ]
  },
  {
   "cell_type": "code",
   "execution_count": 9,
   "id": "942ae157-b08d-4f88-b165-459f18c5cb45",
   "metadata": {},
   "outputs": [],
   "source": [
    "# A function that takes in the event number and calculates the maximum over 4-jet combinations of log of the product of the \n",
    "# likelihood functions of all the jets in the event ANALYTICALLY\n",
    "\n",
    "def get_max_log_likelihood_an(event_id):\n",
    "    event_jets = jets[jets[\"eventNumber\"] == event_id]\n",
    "    #num_jets = len(event_jets)\n",
    "    \n",
    "    combinations = []\n",
    "    mlpl_array = []\n",
    "\n",
    "    for combination in it.combinations(event_jets, 4):\n",
    "        combinations.append(combination)\n",
    "\n",
    "    for comb in combinations:\n",
    "        num = 0\n",
    "        denom = 0\n",
    "        second_term = 0\n",
    "        third_term = 0\n",
    "        for jet in comb:\n",
    "            mu = jet[\"dipz_z\"] * 50\n",
    "            sigma = np.exp(-0.5*jet[\"dipz_negLogSigma2\"]) * 50\n",
    "\n",
    "            num += (mu) / (sigma**2)\n",
    "            denom += 1 / (sigma**2)\n",
    "            second_term -= np.log(sigma)\n",
    "        for jet in comb:\n",
    "            mu = jet[\"dipz_z\"] * 50\n",
    "            sigma = np.exp(-0.5*jet[\"dipz_negLogSigma2\"]) * 50\n",
    "\n",
    "            third_term -= ((num / denom) - mu)**2 / (2*sigma**2) \n",
    "\n",
    "    \n",
    "        mlpl_array.append(-4 * np.log(np.sqrt(2*np.pi)) + second_term + third_term )\n",
    "            \n",
    "    \n",
    "    max_log_likelihood = max(mlpl_array)\n",
    "        \n",
    "    return max_log_likelihood"
   ]
  },
  {
   "cell_type": "code",
   "execution_count": 10,
   "id": "e78b09d8-0f81-4135-9663-b6c3ee39000c",
   "metadata": {},
   "outputs": [
    {
     "name": "stdout",
     "output_type": "stream",
     "text": [
      "CPU times: user 35 ms, sys: 0 ns, total: 35 ms\n",
      "Wall time: 34.6 ms\n"
     ]
    },
    {
     "data": {
      "text/plain": [
       "-7.128376854233859"
      ]
     },
     "execution_count": 10,
     "metadata": {},
     "output_type": "execute_result"
    }
   ],
   "source": [
    "%%time\n",
    "#get_max_log_likelihood_num(fom_events[1])\n",
    "get_max_log_likelihood_an(fom_events[1])"
   ]
  },
  {
   "cell_type": "code",
   "execution_count": 11,
   "id": "dee106de-5b2f-4928-a465-be6608119000",
   "metadata": {},
   "outputs": [
    {
     "data": {
      "text/plain": [
       "9"
      ]
     },
     "execution_count": 11,
     "metadata": {},
     "output_type": "execute_result"
    }
   ],
   "source": [
    "len(jets[jets[\"eventNumber\"] == fom_events[1]])"
   ]
  },
  {
   "cell_type": "code",
   "execution_count": 14,
   "id": "3f51a2b0-7a79-4ade-b453-a1911a9893c4",
   "metadata": {},
   "outputs": [],
   "source": [
    "import time\n",
    "\n",
    "def get_max_log_likelihood_dist(name, num=999999999999999):\n",
    "    start = time.time()\n",
    "    data = File(name, 'r')\n",
    "    jets = data['jets']\n",
    "    uniques = np.unique(jets[\"eventNumber\"])\n",
    "\n",
    "    max_log_likelihood_list = []\n",
    "    no_of_processed_events = num\n",
    "    counter = 0\n",
    "\n",
    "    for id in uniques:\n",
    "        if len(jets[jets[\"eventNumber\"] == id]) >= 4:\n",
    "            max_log_likelihood_list.append(get_max_log_likelihood_an(id))\n",
    "            counter +=1\n",
    "        if counter == no_of_processed_events:\n",
    "            break\n",
    "\n",
    "    if counter != no_of_processed_events:\n",
    "        print(\"The number of four or more jet events in the sample is less than the provided number, there all the sample was run over.\")\n",
    "    end = time.time()\n",
    "    print(\"The time of execution of this function is :\", (end-start) , \"s\")\n",
    "\n",
    "    return max_log_likelihood_list\n",
    "\n",
    "def plot_distribution(max_log_likelihood_list):\n",
    "    plt.hist(max_log_likelihood_list)\n",
    "    plt.yscale(\"log\")\n",
    "    plt.xlabel(\"mlpl\", loc='right')\n",
    "    plt.title('Distribution of the maximum Log of the total likelihood function per event')\n",
    "    plt.show()"
   ]
  },
  {
   "cell_type": "code",
   "execution_count": 15,
   "id": "6c522a0b-0244-43a8-973d-38f6692b7db5",
   "metadata": {},
   "outputs": [
    {
     "name": "stdout",
     "output_type": "stream",
     "text": [
      "The time of execution of this function is : 1754.1948339939117 s\n"
     ]
    },
    {
     "data": {
      "image/png": "[encoded data removed]",
      "text/plain": [
       "<Figure size 640x480 with 1 Axes>"
      ]
     },
     "metadata": {},
     "output_type": "display_data"
    },
    {
     "name": "stdout",
     "output_type": "stream",
     "text": [
      "CPU times: user 28min 56s, sys: 18.4 s, total: 29min 14s\n",
      "Wall time: 29min 14s\n"
     ]
    }
   ],
   "source": [
    "%%time\n",
    "\"\"\" Getting the distribution for the dijet sample (mc21_13p6TeV.801167.Py8EG_A14NNPDF23LO_jj_JZ2.recon.AOD.e8453_s3873_r13983) \"\"\"\n",
    "dist = get_max_log_likelihood_dist(\"../user.maboelel.32438279._000005.output.h5\", 20000)\n",
    "plot_distribution(dist)"
   ]
  },
  {
   "cell_type": "code",
   "execution_count": 79,
   "id": "d5a4b8c6-832f-4caf-a048-ef56ed4b170b",
   "metadata": {},
   "outputs": [
    {
     "name": "stdout",
     "output_type": "stream",
     "text": [
      "The time of execution of this function is : 52.468586921691895 s\n"
     ]
    }
   ],
   "source": [
    "dist_1 = get_max_log_likelihood_dist(\"../user.maboelel.32438279._000005.output.h5\", 500)"
   ]
  },
  {
   "cell_type": "code",
   "execution_count": 39,
   "id": "02e004d1-8e44-419b-85d4-59509f89cd83",
   "metadata": {},
   "outputs": [
    {
     "data": {
      "image/png": "[encoded data removed]",
      "text/plain": [
       "<Figure size 640x480 with 1 Axes>"
      ]
     },
     "metadata": {},
     "output_type": "display_data"
    },
    {
     "name": "stdout",
     "output_type": "stream",
     "text": [
      "CPU times: user 1min 48s, sys: 264 ms, total: 1min 49s\n",
      "Wall time: 1min 49s\n"
     ]
    }
   ],
   "source": [
    "%%time\n",
    "\"\"\" Getting the distribution for the EB data sample (data22_13p6TeV:data22_13p6TeV.00440499.physics_EnhancedBias.recon.AOD.\n",
    "r14725_r14726_tid33689943_00) \"\"\"\n",
    "dist = get_max_log_likelihood_dist(\"../data22_13p6TeV.00440499.physics_EnhancedBias.h5\")\n",
    "plot_distribution(dist)"
   ]
  },
  {
   "cell_type": "code",
   "execution_count": 20,
   "id": "acf96640-a053-4ded-bc95-60195a9bae91",
   "metadata": {},
   "outputs": [],
   "source": [
    "data = File(\"../data22_13p6TeV.00440499.physics_EnhancedBias.h5\", 'r')\n",
    "jets = data['jets']\n",
    "uniques = np.unique(jets[\"eventNumber\"])\n",
    "    \n",
    "fom_events = []\n",
    "\n",
    "no_of_processed_events = 100\n",
    "counter = 0\n",
    "\n",
    "for id in uniques:\n",
    "    if len(jets[jets[\"eventNumber\"] == id]) >= 4:\n",
    "        fom_events.append(id)\n",
    "        counter +=1\n",
    "    if counter == no_of_processed_events:\n",
    "        break\n",
    "            "
   ]
  },
  {
   "cell_type": "code",
   "execution_count": 28,
   "id": "ecd4df3f-d619-42aa-a942-012594dc4150",
   "metadata": {
    "scrolled": true
   },
   "outputs": [
    {
     "data": {
      "text/plain": [
       "7"
      ]
     },
     "execution_count": 28,
     "metadata": {},
     "output_type": "execute_result"
    }
   ],
   "source": [
    "len(jets[jets[\"eventNumber\"] == fom_events[1]])"
   ]
  },
  {
   "cell_type": "code",
   "execution_count": 37,
   "id": "3c1863e2-70ae-48d9-b151-9ec0f39f5c69",
   "metadata": {},
   "outputs": [],
   "source": [
    "max_log_likelihood_list = []\n",
    "\n",
    "for id in fom_events:        \n",
    "    max_log_likelihood_list.append(get_max_log_likelihood(id))\n"
   ]
  },
  {
   "cell_type": "code",
   "execution_count": 38,
   "id": "b01004e4-e343-4e6c-93ad-7b57c53a4ed9",
   "metadata": {},
   "outputs": [
    {
     "data": {
      "image/png": "[encoded data removed]",
      "text/plain": [
       "<Figure size 640x480 with 1 Axes>"
      ]
     },
     "metadata": {},
     "output_type": "display_data"
    }
   ],
   "source": [
    "plot_distribution(max_log_likelihood_list)"
   ]
  },
  {
   "cell_type": "code",
   "execution_count": null,
   "id": "d58e8099-e4f8-4f36-bf39-e21777f31e27",
   "metadata": {},
   "outputs": [],
   "source": []
  }
 ],
 "metadata": {
  "kernelspec": {
   "display_name": "Python 3 (ipykernel)",
   "language": "python",
   "name": "python3"
  },
  "language_info": {
   "codemirror_mode": {
    "name": "ipython",
    "version": 3
   },
   "file_extension": ".py",
   "mimetype": "text/x-python",
   "name": "python",
   "nbconvert_exporter": "python",
   "pygments_lexer": "ipython3",
   "version": "3.11.3"
  }
 },
 "nbformat": 4,
 "nbformat_minor": 5
}
