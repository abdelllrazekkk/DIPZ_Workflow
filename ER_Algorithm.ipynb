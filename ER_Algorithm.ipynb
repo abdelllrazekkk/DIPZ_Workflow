{
 "cells": [
  {
   "cell_type": "markdown",
   "id": "791eed2b",
   "metadata": {},
   "source": [
    "# ER (Event Rejection) Algorithm"
   ]
  },
  {
   "cell_type": "code",
   "execution_count": 1,
   "id": "aa8beec3",
   "metadata": {},
   "outputs": [],
   "source": [
    "from turtle import title\n",
    "from h5py import File\n",
    "import matplotlib as mpl\n",
    "import matplotlib.pyplot as plt\n",
    "import numpy as np\n",
    "import math"
   ]
  },
  {
   "cell_type": "code",
   "execution_count": 2,
   "id": "64ca5980",
   "metadata": {},
   "outputs": [
    {
     "name": "stdout",
     "output_type": "stream",
     "text": [
      "List of available datasets: ['fs_tracks', 'fs_tracks_simple_ip', 'jets', 'tracks']\n"
     ]
    }
   ],
   "source": [
    "#Opening the HDF5 File\n",
    "input_file = \"../user.viruelas.27383479._000001.output.h5\"\n",
    "data = File(input_file, 'r')\n",
    "print(\"List of available datasets: \" + str(list(data.keys())))"
   ]
  },
  {
   "cell_type": "code",
   "execution_count": 3,
   "id": "03c63ded",
   "metadata": {},
   "outputs": [
    {
     "name": "stdout",
     "output_type": "stream",
     "text": [
      "The attributes of each element of the dataset (jets): dict_keys(['pt_btagJes', 'eta_btagJes', 'absEta_btagJes', 'JetFitter_energyFraction', 'JetFitter_mass', 'JetFitter_significance3d', 'JetFitter_deltaphi', 'JetFitter_deltaeta', 'JetFitter_massUncorr', 'JetFitter_dRFlightDir', 'SV1_masssvx', 'SV1_efracsvx', 'SV1_significance3d', 'SV1_dstToMatLay', 'SV1_deltaR', 'SV1_Lxy', 'SV1_L3d', 'JetFitter_deltaR', 'JetFitterSecondaryVertex_displacement3d', 'JetFitterSecondaryVertex_displacement2d', 'JetFitterSecondaryVertex_mass', 'JetFitterSecondaryVertex_energy', 'JetFitterSecondaryVertex_energyFraction', 'JetFitterSecondaryVertex_minimumTrackRelativeEta', 'JetFitterSecondaryVertex_maximumTrackRelativeEta', 'JetFitterSecondaryVertex_averageTrackRelativeEta', 'JetFitterSecondaryVertex_minimumAllJetTrackRelativeEta', 'JetFitterSecondaryVertex_maximumAllJetTrackRelativeEta', 'JetFitterSecondaryVertex_averageAllJetTrackRelativeEta', 'MV2c10_discriminant', 'IP2D_pu', 'IP2D_pc', 'IP2D_pb', 'IP3D_pu', 'IP3D_pc', 'IP3D_pb', 'IP2D_cu', 'IP2D_bu', 'IP2D_bc', 'IP3D_cu', 'IP3D_bu', 'IP3D_bc', 'rnnip_pu', 'rnnip_pc', 'rnnip_pb', 'DL1r_pu', 'DL1r_pc', 'DL1r_pb', 'deltaRToOfflineJet', 'deltaPtToOfflineJet', 'OfflineMatchedDL1r_pb', 'OfflineMatchedDL1r_pc', 'OfflineMatchedDL1r_pu', 'dipsLoose20210517FsTracks_pb', 'dipsLoose20210517FsTracks_pc', 'dipsLoose20210517FsTracks_pu', 'dipsLoose20210517SimpleIp_pb', 'dipsLoose20210517SimpleIp_pc', 'dipsLoose20210517SimpleIp_pu', 'dipsLoose20210729_pb', 'dipsLoose20210729_pc', 'dipsLoose20210729_pu', 'DL1dv00_pb', 'DL1dv00_pc', 'DL1dv00_pu', 'dipsLoose20210729FsTracks_pb', 'dipsLoose20210729FsTracks_pc', 'dipsLoose20210729FsTracks_pu', 'dipsLoose20210729SimpleIp_pb', 'dipsLoose20210729SimpleIp_pc', 'dipsLoose20210729SimpleIp_pu', 'dips20211116_pb', 'dips20211116_pc', 'dips20211116_pu', 'IP2D_isDefaults', 'IP3D_isDefaults', 'JetFitter_isDefaults', 'SV1_isDefaults', 'JetFitterSecondaryVertex_isDefaults', 'rnnip_isDefaults', 'JetFitter_nVTX', 'JetFitter_nSingleTracks', 'JetFitter_nTracksAtVtx', 'JetFitter_N2Tpair', 'SV1_N2Tpair', 'SV1_NGTinSvx', 'JetFitterSecondaryVertex_nTracks', 'IP2D_nTrks', 'IP3D_nTrks', 'HadronConeExclTruthLabelPt', 'Jvt', 'HadronConeExclTruthLabelID', 'HadronConeExclExtendedTruthLabelID', 'jetPtRank', 'OfflineMatchedHadronConeExclTruthLabelID', 'OfflineMatchedHadronConeExclExtendedTruthLabelID', 'n_tracks', 'n_fs_tracks', 'n_fs_tracks_simple_ip', 'pt', 'eta', 'energy', 'mass', 'mcEventWeight', 'eventNumber', 'averageInteractionsPerCrossing', 'actualInteractionsPerCrossing', 'nPrimaryVertices', 'primaryVertexDetectorZ', 'primaryVertexDetectorZUncertainty'])\n"
     ]
    }
   ],
   "source": [
    "#Accessing the 'Jets' Dataset\n",
    "jets = data['jets']\n",
    "print(\"The attributes of each element of the dataset (jets): \" + str(jets.dtype.fields.keys()))"
   ]
  },
  {
   "cell_type": "code",
   "execution_count": 4,
   "id": "f37a9073-da6e-43a9-ac7f-f5b71a4554b2",
   "metadata": {},
   "outputs": [
    {
     "name": "stdout",
     "output_type": "stream",
     "text": [
      "The attributes of each element of the dataset (jets): dict_keys(['pt_btagJes', 'eta_btagJes', 'absEta_btagJes', 'JetFitter_energyFraction', 'JetFitter_mass', 'JetFitter_significance3d', 'JetFitter_deltaphi', 'JetFitter_deltaeta', 'JetFitter_massUncorr', 'JetFitter_dRFlightDir', 'SV1_masssvx', 'SV1_efracsvx', 'SV1_significance3d', 'SV1_dstToMatLay', 'SV1_deltaR', 'SV1_Lxy', 'SV1_L3d', 'JetFitter_deltaR', 'JetFitterSecondaryVertex_displacement3d', 'JetFitterSecondaryVertex_displacement2d', 'JetFitterSecondaryVertex_mass', 'JetFitterSecondaryVertex_energy', 'JetFitterSecondaryVertex_energyFraction', 'JetFitterSecondaryVertex_minimumTrackRelativeEta', 'JetFitterSecondaryVertex_maximumTrackRelativeEta', 'JetFitterSecondaryVertex_averageTrackRelativeEta', 'JetFitterSecondaryVertex_minimumAllJetTrackRelativeEta', 'JetFitterSecondaryVertex_maximumAllJetTrackRelativeEta', 'JetFitterSecondaryVertex_averageAllJetTrackRelativeEta', 'MV2c10_discriminant', 'IP2D_pu', 'IP2D_pc', 'IP2D_pb', 'IP3D_pu', 'IP3D_pc', 'IP3D_pb', 'IP2D_cu', 'IP2D_bu', 'IP2D_bc', 'IP3D_cu', 'IP3D_bu', 'IP3D_bc', 'rnnip_pu', 'rnnip_pc', 'rnnip_pb', 'DL1r_pu', 'DL1r_pc', 'DL1r_pb', 'deltaRToOfflineJet', 'deltaPtToOfflineJet', 'OfflineMatchedDL1r_pb', 'OfflineMatchedDL1r_pc', 'OfflineMatchedDL1r_pu', 'dipsLoose20210517FsTracks_pb', 'dipsLoose20210517FsTracks_pc', 'dipsLoose20210517FsTracks_pu', 'dipsLoose20210517SimpleIp_pb', 'dipsLoose20210517SimpleIp_pc', 'dipsLoose20210517SimpleIp_pu', 'dipsLoose20210729_pb', 'dipsLoose20210729_pc', 'dipsLoose20210729_pu', 'DL1dv00_pb', 'DL1dv00_pc', 'DL1dv00_pu', 'dipsLoose20210729FsTracks_pb', 'dipsLoose20210729FsTracks_pc', 'dipsLoose20210729FsTracks_pu', 'dipsLoose20210729SimpleIp_pb', 'dipsLoose20210729SimpleIp_pc', 'dipsLoose20210729SimpleIp_pu', 'dips20211116_pb', 'dips20211116_pc', 'dips20211116_pu', 'IP2D_isDefaults', 'IP3D_isDefaults', 'JetFitter_isDefaults', 'SV1_isDefaults', 'JetFitterSecondaryVertex_isDefaults', 'rnnip_isDefaults', 'JetFitter_nVTX', 'JetFitter_nSingleTracks', 'JetFitter_nTracksAtVtx', 'JetFitter_N2Tpair', 'SV1_N2Tpair', 'SV1_NGTinSvx', 'JetFitterSecondaryVertex_nTracks', 'IP2D_nTrks', 'IP3D_nTrks', 'HadronConeExclTruthLabelPt', 'Jvt', 'HadronConeExclTruthLabelID', 'HadronConeExclExtendedTruthLabelID', 'jetPtRank', 'OfflineMatchedHadronConeExclTruthLabelID', 'OfflineMatchedHadronConeExclExtendedTruthLabelID', 'n_tracks', 'n_fs_tracks', 'n_fs_tracks_simple_ip', 'pt', 'eta', 'energy', 'mass', 'mcEventWeight', 'eventNumber', 'averageInteractionsPerCrossing', 'actualInteractionsPerCrossing', 'nPrimaryVertices', 'primaryVertexDetectorZ', 'primaryVertexDetectorZUncertainty'])\n"
     ]
    }
   ],
   "source": [
    "#Accessing the 'super_tracks' Dataset\n",
    "jets = data['jets']\n",
    "print(\"The attributes of each element of the dataset (jets): \" + str(jets.dtype.fields.keys()))"
   ]
  },
  {
   "cell_type": "code",
   "execution_count": 8,
   "id": "be3aa850-bb71-4f57-8866-589cabc3abea",
   "metadata": {},
   "outputs": [
    {
     "name": "stdout",
     "output_type": "stream",
     "text": [
      "[60000001 60000002 60000003 ... 60151998 60151999 60152000]\n"
     ]
    }
   ],
   "source": [
    "uniques = np.unique(jets[\"eventNumber\"])\n",
    "print(np.array(uniques))"
   ]
  },
  {
   "cell_type": "code",
   "execution_count": null,
   "id": "dae082d9",
   "metadata": {},
   "outputs": [],
   "source": [
    "#Getting an array of Event_IDs for 4-jet events\n",
    "uniques = np.unique(jets[\"eventNumber\"])\n",
    "four_jet_ids = []\n",
    "counter = 0\n",
    "for i in uniques:\n",
    "    if len(jets[jets[\"eventNumber\"] == i]) == 20: \n",
    "        four_jet_ids.append(i)\n",
    "        break;\n",
    "        counter += 1\n",
    "    if counter == 100:\n",
    "        break;\n",
    "\n",
    "print(four_jet_ids)\n",
    "print(len(four_jet_ids))"
   ]
  },
  {
   "cell_type": "code",
   "execution_count": 28,
   "id": "1ae9f9b1-7dcb-4942-9386-12119f4155b8",
   "metadata": {},
   "outputs": [
    {
     "data": {
      "text/plain": [
       "2.465"
      ]
     },
     "execution_count": 28,
     "metadata": {},
     "output_type": "execute_result"
    }
   ],
   "source": [
    "four_jet_event = jets[jets[\"eventNumber\"] == four_jet_ids[0]]\n",
    "four_jet_event[0][\"dipz_z\"]"
   ]
  },
  {
   "cell_type": "code",
   "execution_count": 33,
   "id": "5b475713",
   "metadata": {},
   "outputs": [
    {
     "ename": "NameError",
     "evalue": "name 'x' is not defined",
     "output_type": "error",
     "traceback": [
      "\u001b[0;31m---------------------------------------------------------------------------\u001b[0m",
      "\u001b[0;31mNameError\u001b[0m                                 Traceback (most recent call last)",
      "Cell \u001b[0;32mIn[33], line 10\u001b[0m\n\u001b[1;32m      7\u001b[0m ic \u001b[38;5;241m=\u001b[39m \u001b[38;5;241m0\u001b[39m      \u001b[38;5;66;03m#color counter\u001b[39;00m\n\u001b[1;32m      9\u001b[0m \u001b[38;5;28;01mfor\u001b[39;00m i \u001b[38;5;129;01min\u001b[39;00m \u001b[38;5;28mrange\u001b[39m(\u001b[38;5;28mlen\u001b[39m(four_jet_event)):\n\u001b[0;32m---> 10\u001b[0m     plt\u001b[38;5;241m.\u001b[39mplot(\u001b[43mx\u001b[49m, norm\u001b[38;5;241m.\u001b[39mpdf(x, four_jet_event[i][\u001b[38;5;124m\"\u001b[39m\u001b[38;5;124mdipz_z\u001b[39m\u001b[38;5;124m\"\u001b[39m], np\u001b[38;5;241m.\u001b[39mexp(\u001b[38;5;241m-\u001b[39m\u001b[38;5;241m0.5\u001b[39m\u001b[38;5;241m*\u001b[39mfour_jet_event[i][\u001b[38;5;124m\"\u001b[39m\u001b[38;5;124mdipz_negLogSigma2\u001b[39m\u001b[38;5;124m\"\u001b[39m])), color\u001b[38;5;241m=\u001b[39mcolor[ic], linewidth\u001b[38;5;241m=\u001b[39m\u001b[38;5;241m2\u001b[39m, label\u001b[38;5;241m=\u001b[39m\u001b[38;5;124m'\u001b[39m\u001b[38;5;124mJet \u001b[39m\u001b[38;5;124m'\u001b[39m\u001b[38;5;241m+\u001b[39m\u001b[38;5;28mstr\u001b[39m(ic))\n\u001b[1;32m     11\u001b[0m     ic \u001b[38;5;241m=\u001b[39m ic \u001b[38;5;241m+\u001b[39m \u001b[38;5;241m1\u001b[39m    \n\u001b[1;32m     12\u001b[0m plt\u001b[38;5;241m.\u001b[39mxlabel(\u001b[38;5;124m\"\u001b[39m\u001b[38;5;124mz/50 mm\u001b[39m\u001b[38;5;124m\"\u001b[39m, loc\u001b[38;5;241m=\u001b[39m\u001b[38;5;124m'\u001b[39m\u001b[38;5;124mright\u001b[39m\u001b[38;5;124m'\u001b[39m)\n",
      "\u001b[0;31mNameError\u001b[0m: name 'x' is not defined"
     ]
    }
   ],
   "source": [
    "import matplotlib.pyplot as plt\n",
    "from scipy.stats import norm\n",
    "import random\n",
    "#Generating random colors for  the plot\n",
    "color=[\"#\"+''.join([random.choice('0123456789ABCDEF') for i in range(6)])\n",
    "           for j in range(len(four_jet_event))]\n",
    "ic = 0      #color counter\n",
    "\n",
    "for i in range(len(four_jet_event)):\n",
    "    plt.plot(x, norm.pdf(x, four_jet_event[i][\"dipz_z\"], np.exp(-0.5*four_jet_event[i][\"dipz_negLogSigma2\"])), color=color[ic], linewidth=2, label='Jet '+str(ic))\n",
    "    ic = ic + 1    \n",
    "plt.xlabel(\"z/50 mm\", loc='right')\n",
    "plt.title('The regressed z-position of some jets')\n",
    "plt.xlim([-4, 4])\n",
    "plt.legend()\n",
    "plt.show()\n",
    "#plt.cla()"
   ]
  },
  {
   "cell_type": "code",
   "execution_count": 27,
   "id": "d538aad3",
   "metadata": {
    "scrolled": true
   },
   "outputs": [
    {
     "name": "stdout",
     "output_type": "stream",
     "text": [
      "The attributes of each element of the dataset (super_tracks): dict_keys(['numberOfInnermostPixelLayerHits', 'numberOfNextToInnermostPixelLayerHits', 'numberOfPixelHits', 'numberOfSCTHits', 'numberOfPixelHoles', 'numberOfSCTHoles', 'chiSquared', 'numberDoF', 'radiusOfFirstHit', 'qOverP', 'pt', 'ptfrac', 'qOverPUncertainty', 'd0', 'd0Uncertainty', 'IP2D_signed_d0', 'phiUncertainty', 'thetaUncertainty', 'deta', 'dphi', 'dr', 'z0RelativeToBeamspot', 'z0RelativeToBeamspotUncertainty', 'valid'])\n"
     ]
    }
   ],
   "source": [
    "super_tracks = data['super_tracks']\n",
    "print(\"The attributes of each element of the dataset (super_tracks): \" + str(super_tracks.dtype.fields.keys()))"
   ]
  },
  {
   "cell_type": "code",
   "execution_count": 28,
   "id": "0cae2ed9",
   "metadata": {
    "scrolled": true
   },
   "outputs": [
    {
     "name": "stdout",
     "output_type": "stream",
     "text": [
      "[[ 37.13629    37.253117   40.838814  ...         nan         nan\n",
      "          nan]\n",
      " [-30.690022   38.180237   50.051197  ...         nan         nan\n",
      "          nan]\n",
      " [  5.6123476 -24.55395   -33.712482  ...         nan         nan\n",
      "          nan]\n",
      " ...\n",
      " [  7.3150687  26.28233    12.656669  ...         nan         nan\n",
      "          nan]\n",
      " [  9.174093    9.1709385   9.12646   ...         nan         nan\n",
      "          nan]\n",
      " [-57.978844   60.228466   -8.469741  ...         nan         nan\n",
      "          nan]]\n"
     ]
    }
   ],
   "source": [
    "print(super_tracks['z0RelativeToBeamspot'])"
   ]
  },
  {
   "cell_type": "code",
   "execution_count": 29,
   "id": "0b35a8c6",
   "metadata": {
    "scrolled": true
   },
   "outputs": [
    {
     "name": "stdout",
     "output_type": "stream",
     "text": [
      "2\n"
     ]
    }
   ],
   "source": [
    "print(np.sum(jets['n_super_tracks'] == 0))"
   ]
  },
  {
   "cell_type": "code",
   "execution_count": 30,
   "id": "159a34c0",
   "metadata": {},
   "outputs": [
    {
     "name": "stdout",
     "output_type": "stream",
     "text": [
      "116\n"
     ]
    }
   ],
   "source": [
    "print(len(jets))"
   ]
  },
  {
   "cell_type": "code",
   "execution_count": 31,
   "id": "1c9cf56c",
   "metadata": {},
   "outputs": [
    {
     "name": "stdout",
     "output_type": "stream",
     "text": [
      "(116,)\n"
     ]
    }
   ],
   "source": [
    "print(z.shape)"
   ]
  },
  {
   "cell_type": "code",
   "execution_count": 32,
   "id": "98e9f43b",
   "metadata": {},
   "outputs": [
    {
     "name": "stdout",
     "output_type": "stream",
     "text": [
      "<HDF5 dataset \"jets\": shape (116,), type \"|V92\">\n"
     ]
    }
   ],
   "source": [
    "print(jets)"
   ]
  },
  {
   "cell_type": "code",
   "execution_count": 33,
   "id": "647a29c8",
   "metadata": {},
   "outputs": [
    {
     "name": "stdout",
     "output_type": "stream",
     "text": [
      "0.74848443\n"
     ]
    }
   ],
   "source": [
    "print(z[0])"
   ]
  },
  {
   "cell_type": "code",
   "execution_count": 34,
   "id": "0b63fd7a",
   "metadata": {},
   "outputs": [
    {
     "name": "stdout",
     "output_type": "stream",
     "text": [
      "0.7484845\n"
     ]
    }
   ],
   "source": [
    "print(jets['dipz20230223_z'][0])"
   ]
  },
  {
   "cell_type": "code",
   "execution_count": 35,
   "id": "7e9599ce",
   "metadata": {},
   "outputs": [
    {
     "data": {
      "image/png": "[encoded data removed]",
      "text/plain": [
       "<Figure size 640x480 with 1 Axes>"
      ]
     },
     "metadata": {},
     "output_type": "display_data"
    }
   ],
   "source": [
    "plt.hist(np.abs(jets['dipz20230223_z']-z), bins=100)\n",
    "plt.xscale('log')\n",
    "plt.title('Plotting a histogram of the error of the predictions of Keras vs. Athena')\n",
    "plt.xlabel(\"z(athena) - z(Keras)\", loc='right')\n",
    "plt.show()"
   ]
  },
  {
   "cell_type": "code",
   "execution_count": 36,
   "id": "7846d684",
   "metadata": {},
   "outputs": [
    {
     "name": "stdout",
     "output_type": "stream",
     "text": [
      "2\n"
     ]
    },
    {
     "data": {
      "image/png": "[encoded data removed]",
      "text/plain": [
       "<Figure size 640x480 with 1 Axes>"
      ]
     },
     "metadata": {},
     "output_type": "display_data"
    }
   ],
   "source": [
    "سين = 2\n",
    "print(سين)\n",
    "plt.hist(np.log10(np.abs(jets['dipz20230223_z']-z) + 10**-5), bins=100)\n",
    "plt.yscale('log')\n",
    "plt.title('Plotting a histogram of the error of the predictions of Keras vs. Athena')\n",
    "plt.xlabel(\"z(athena) - z(Keras)\", loc='right')\n",
    "plt.show()"
   ]
  },
  {
   "cell_type": "code",
   "execution_count": 37,
   "id": "22c478fe",
   "metadata": {},
   "outputs": [
    {
     "data": {
      "image/png": "[encoded data removed]",
      "text/plain": [
       "<Figure size 640x480 with 1 Axes>"
      ]
     },
     "metadata": {},
     "output_type": "display_data"
    }
   ],
   "source": [
    "c = np.sqrt(np.exp(-jets['dipz20230223_negLogSigma2']))-widths\n",
    "plt.hist(np.log10(np.abs(c) + 10**-8), bins=100)\n",
    "plt.yscale('log')\n",
    "plt.title('Plotting a histogram of the error of the predictions of Athena vs. Keras')\n",
    "plt.xlabel(\"z(athena) - z(Keras)\", loc='right')\n",
    "plt.show()"
   ]
  },
  {
   "cell_type": "code",
   "execution_count": 38,
   "id": "dac8ca4b",
   "metadata": {},
   "outputs": [
    {
     "ename": "ValueError",
     "evalue": "Field dipz_negLogSigma2 does not appear in this type.",
     "output_type": "error",
     "traceback": [
      "\u001b[0;31m---------------------------------------------------------------------------\u001b[0m",
      "\u001b[0;31mValueError\u001b[0m                                Traceback (most recent call last)",
      "Cell \u001b[0;32mIn[38], line 1\u001b[0m\n\u001b[0;32m----> 1\u001b[0m c2 \u001b[38;5;241m=\u001b[39m np\u001b[38;5;241m.\u001b[39msqrt(np\u001b[38;5;241m.\u001b[39mexp(\u001b[38;5;241m-\u001b[39m\u001b[43mjets\u001b[49m\u001b[43m[\u001b[49m\u001b[38;5;124;43m'\u001b[39;49m\u001b[38;5;124;43mdipz_negLogSigma2\u001b[39;49m\u001b[38;5;124;43m'\u001b[39;49m\u001b[43m]\u001b[49m))\u001b[38;5;241m-\u001b[39mwidths\n\u001b[1;32m      2\u001b[0m plt\u001b[38;5;241m.\u001b[39mhist(c2, bins\u001b[38;5;241m=\u001b[39m\u001b[38;5;241m100\u001b[39m)\n\u001b[1;32m      3\u001b[0m plt\u001b[38;5;241m.\u001b[39myscale(\u001b[38;5;124m'\u001b[39m\u001b[38;5;124mlog\u001b[39m\u001b[38;5;124m'\u001b[39m)\n",
      "File \u001b[0;32mh5py/_objects.pyx:54\u001b[0m, in \u001b[0;36mh5py._objects.with_phil.wrapper\u001b[0;34m()\u001b[0m\n",
      "File \u001b[0;32mh5py/_objects.pyx:55\u001b[0m, in \u001b[0;36mh5py._objects.with_phil.wrapper\u001b[0;34m()\u001b[0m\n",
      "File \u001b[0;32m/lustre/work/client/users/maboelela/.conda/envs/dipz/lib/python3.11/site-packages/h5py/_hl/dataset.py:787\u001b[0m, in \u001b[0;36mDataset.__getitem__\u001b[0;34m(self, args, new_dtype)\u001b[0m\n\u001b[1;32m    785\u001b[0m         names \u001b[38;5;241m=\u001b[39m names[\u001b[38;5;241m0\u001b[39m]  \u001b[38;5;66;03m# Read with simpler dtype of this field\u001b[39;00m\n\u001b[1;32m    786\u001b[0m     args \u001b[38;5;241m=\u001b[39m \u001b[38;5;28mtuple\u001b[39m(x \u001b[38;5;28;01mfor\u001b[39;00m x \u001b[38;5;129;01min\u001b[39;00m args \u001b[38;5;28;01mif\u001b[39;00m \u001b[38;5;129;01mnot\u001b[39;00m \u001b[38;5;28misinstance\u001b[39m(x, \u001b[38;5;28mstr\u001b[39m))\n\u001b[0;32m--> 787\u001b[0m     \u001b[38;5;28;01mreturn\u001b[39;00m \u001b[38;5;28;43mself\u001b[39;49m\u001b[38;5;241;43m.\u001b[39;49m\u001b[43mfields\u001b[49m\u001b[43m(\u001b[49m\u001b[43mnames\u001b[49m\u001b[43m,\u001b[49m\u001b[43m \u001b[49m\u001b[43m_prior_dtype\u001b[49m\u001b[38;5;241;43m=\u001b[39;49m\u001b[43mnew_dtype\u001b[49m\u001b[43m)\u001b[49m[args]\n\u001b[1;32m    789\u001b[0m \u001b[38;5;28;01mif\u001b[39;00m new_dtype \u001b[38;5;129;01mis\u001b[39;00m \u001b[38;5;28;01mNone\u001b[39;00m:\n\u001b[1;32m    790\u001b[0m     new_dtype \u001b[38;5;241m=\u001b[39m \u001b[38;5;28mself\u001b[39m\u001b[38;5;241m.\u001b[39mdtype\n",
      "File \u001b[0;32m/lustre/work/client/users/maboelela/.conda/envs/dipz/lib/python3.11/site-packages/h5py/_hl/dataset.py:445\u001b[0m, in \u001b[0;36mDataset.fields\u001b[0;34m(self, names, _prior_dtype)\u001b[0m\n\u001b[1;32m    443\u001b[0m \u001b[38;5;28;01mif\u001b[39;00m _prior_dtype \u001b[38;5;129;01mis\u001b[39;00m \u001b[38;5;28;01mNone\u001b[39;00m:\n\u001b[1;32m    444\u001b[0m     _prior_dtype \u001b[38;5;241m=\u001b[39m \u001b[38;5;28mself\u001b[39m\u001b[38;5;241m.\u001b[39mdtype\n\u001b[0;32m--> 445\u001b[0m \u001b[38;5;28;01mreturn\u001b[39;00m \u001b[43mFieldsWrapper\u001b[49m\u001b[43m(\u001b[49m\u001b[38;5;28;43mself\u001b[39;49m\u001b[43m,\u001b[49m\u001b[43m \u001b[49m\u001b[43m_prior_dtype\u001b[49m\u001b[43m,\u001b[49m\u001b[43m \u001b[49m\u001b[43mnames\u001b[49m\u001b[43m)\u001b[49m\n",
      "File \u001b[0;32m/lustre/work/client/users/maboelela/.conda/envs/dipz/lib/python3.11/site-packages/h5py/_hl/dataset.py:274\u001b[0m, in \u001b[0;36mFieldsWrapper.__init__\u001b[0;34m(self, dset, prior_dtype, names)\u001b[0m\n\u001b[1;32m    272\u001b[0m     \u001b[38;5;28mself\u001b[39m\u001b[38;5;241m.\u001b[39mextract_field \u001b[38;5;241m=\u001b[39m names\n\u001b[1;32m    273\u001b[0m     names \u001b[38;5;241m=\u001b[39m [names]\n\u001b[0;32m--> 274\u001b[0m \u001b[38;5;28mself\u001b[39m\u001b[38;5;241m.\u001b[39mread_dtype \u001b[38;5;241m=\u001b[39m \u001b[43mreadtime_dtype\u001b[49m\u001b[43m(\u001b[49m\u001b[43mprior_dtype\u001b[49m\u001b[43m,\u001b[49m\u001b[43m \u001b[49m\u001b[43mnames\u001b[49m\u001b[43m)\u001b[49m\n",
      "File \u001b[0;32m/lustre/work/client/users/maboelela/.conda/envs/dipz/lib/python3.11/site-packages/h5py/_hl/dataset.py:303\u001b[0m, in \u001b[0;36mreadtime_dtype\u001b[0;34m(basetype, names)\u001b[0m\n\u001b[1;32m    301\u001b[0m \u001b[38;5;28;01mfor\u001b[39;00m name \u001b[38;5;129;01min\u001b[39;00m names:  \u001b[38;5;66;03m# Check all names are legal\u001b[39;00m\n\u001b[1;32m    302\u001b[0m     \u001b[38;5;28;01mif\u001b[39;00m name \u001b[38;5;129;01mnot\u001b[39;00m \u001b[38;5;129;01min\u001b[39;00m basetype\u001b[38;5;241m.\u001b[39mnames:\n\u001b[0;32m--> 303\u001b[0m         \u001b[38;5;28;01mraise\u001b[39;00m \u001b[38;5;167;01mValueError\u001b[39;00m(\u001b[38;5;124m\"\u001b[39m\u001b[38;5;124mField \u001b[39m\u001b[38;5;132;01m%s\u001b[39;00m\u001b[38;5;124m does not appear in this type.\u001b[39m\u001b[38;5;124m\"\u001b[39m \u001b[38;5;241m%\u001b[39m name)\n\u001b[1;32m    305\u001b[0m \u001b[38;5;28;01mreturn\u001b[39;00m numpy\u001b[38;5;241m.\u001b[39mdtype([(name, basetype\u001b[38;5;241m.\u001b[39mfields[name][\u001b[38;5;241m0\u001b[39m]) \u001b[38;5;28;01mfor\u001b[39;00m name \u001b[38;5;129;01min\u001b[39;00m names])\n",
      "\u001b[0;31mValueError\u001b[0m: Field dipz_negLogSigma2 does not appear in this type."
     ]
    }
   ],
   "source": [
    "c2 = np.sqrt(np.exp(-jets['dipz_negLogSigma2']))-widths\n",
    "plt.hist(c2, bins=100)\n",
    "plt.yscale('log')\n",
    "plt.title('Plotting a histogram of the error of the Uncertainty of Athena vs. Keras')\n",
    "plt.xlabel(\"std(athena) - std(Keras)\", loc='right')\n",
    "plt.show()"
   ]
  },
  {
   "cell_type": "code",
   "execution_count": null,
   "id": "a7ca14cd",
   "metadata": {},
   "outputs": [],
   "source": [
    "jets['dipz20230223_z'].mean()"
   ]
  },
  {
   "cell_type": "code",
   "execution_count": null,
   "id": "474a9f3b",
   "metadata": {},
   "outputs": [],
   "source": [
    "plt.hist(jets['dipz20230223_z'], bins=100)\n",
    "#plt.yscale('log')\n",
    "plt.show()"
   ]
  },
  {
   "cell_type": "code",
   "execution_count": null,
   "id": "a0352f3a",
   "metadata": {},
   "outputs": [],
   "source": [
    "plt.hist(zhat, bins=100)\n",
    "#plt.yscale('log')\n",
    "plt.show()"
   ]
  },
  {
   "cell_type": "code",
   "execution_count": null,
   "id": "a16cd78a",
   "metadata": {},
   "outputs": [],
   "source": [
    "plt.hist(jets['dipz20230223_z']-zhat, bins=100)\n",
    "plt.yscale('log')\n",
    "plt.show()"
   ]
  },
  {
   "cell_type": "code",
   "execution_count": null,
   "id": "eeacd44f",
   "metadata": {},
   "outputs": [],
   "source": [
    "\"\"\"Plotting a histogram of the error of z-positions predictionof all jets\"\"\"\n",
    "plt.hist(zhat-z, bins=100)\n",
    "plt.yscale('log')\n",
    "plt.title('Plotting a histogram of the error of z-positions prediction of all jets')\n",
    "plt.xlabel(\"|z\\u0302 - z|\", loc='right')\n",
    "plt.show()"
   ]
  },
  {
   "cell_type": "code",
   "execution_count": null,
   "id": "f95094ca",
   "metadata": {},
   "outputs": [],
   "source": [
    "plt.hist(jets['dipz20230223_z']-z, bins=100)\n",
    "plt.yscale('log')\n",
    "plt.title('Plotting a histogram of the error of the predictions')\n",
    "#plt.xlabel(\"|z\\u0302 - z|\", loc='right')\n",
    "plt.show()"
   ]
  },
  {
   "cell_type": "code",
   "execution_count": null,
   "id": "d6b65794",
   "metadata": {},
   "outputs": [],
   "source": [
    "d = jets['dipz20230223_z']-z\n",
    "c = d > 0.01 \n",
    "print(len(d))\n",
    "print(np.count_nonzero(c))"
   ]
  },
  {
   "cell_type": "code",
   "execution_count": null,
   "id": "4d657a6b",
   "metadata": {},
   "outputs": [],
   "source": [
    "regions = [1,10**-1,10**-2,10**-3,10**-4,10**-5,10**-6,10**-7,10**-8,10**-9,10**-10]\n",
    "for i in regions:\n",
    "    c = c1 > i \n",
    "    n = np.count_nonzero(c)\n",
    "    print(\"The number of predictions with error in calculating z bigger than \" + str(i) + \" is \" + str(n))"
   ]
  },
  {
   "cell_type": "code",
   "execution_count": null,
   "id": "5b4521cc",
   "metadata": {},
   "outputs": [],
   "source": [
    "s = jets['dipz20230223_negLogSigma2']-widths\n",
    "max = np.argmax(s)"
   ]
  },
  {
   "cell_type": "code",
   "execution_count": null,
   "id": "35a28d1d",
   "metadata": {},
   "outputs": [],
   "source": [
    "jet_intended = jets[max]\n",
    "jet_variables = ['pt', 'HadronConeExclTruthLabelPt', 'n_tracks_nn', 'eta', \n",
    "                 'fastDips_pb', 'fastDips_pc', 'fastDips_pu', 'dipz_z', 'dipz_negLogSigma2', \n",
    "                 'HadronConeExclTruthLabelID', 'HadronConeExclExtendedTruthLabelID', 'jetPtRank', \n",
    "                 'n_super_tracks', 'n_super_tracks_associated', 'n_super_tracks_fixed_cone', 'mcEventWeight', \n",
    "                 'eventNumber', 'averageInteractionsPerCrossing', 'actualInteractionsPerCrossing', \n",
    "                 'nPrimaryVertices', 'primaryVertexDetectorZ', 'primaryVertexDetectorZUncertainty']\n",
    "for var in jet_variables:\n",
    "    c = jet_intended[var]\n",
    "    print(\"The jet's \" + var + \" is \" + str(c))"
   ]
  },
  {
   "cell_type": "code",
   "execution_count": null,
   "id": "dcd724a5",
   "metadata": {},
   "outputs": [],
   "source": [
    "idx = jets['n_super_tracks'] < 40\n",
    "c = jets['dipz20230223_z']-z\n",
    "plt.hist(np.log10(np.abs(c[idx])+ 1e-10) , bins=500)\n",
    "plt.yscale('log')\n",
    "plt.title('Plotting a histogram of the error of the predictions of Keras vs. Athena')\n",
    "plt.xlabel(\"z(athena) - z(Keras)\", loc='right')\n",
    "plt.show()"
   ]
  },
  {
   "cell_type": "code",
   "execution_count": null,
   "id": "b05b912d",
   "metadata": {},
   "outputs": [],
   "source": [
    "plt.hist(jets['primaryVertexDetectorZ'], bins=100)\n",
    "#plt.yscale('log')\n",
    "plt.show()"
   ]
  },
  {
   "cell_type": "code",
   "execution_count": null,
   "id": "68ee6bfc",
   "metadata": {},
   "outputs": [],
   "source": [
    "j = jets['primaryVertexDetectorZ'].astype('float64')\n",
    "print(\"The target's mean is: \" + str(j.mean()))\n",
    "print(\"The target's std is: \" + str(j.std()))"
   ]
  }
 ],
 "metadata": {
  "kernelspec": {
   "display_name": "Python 3 (ipykernel)",
   "language": "python",
   "name": "python3"
  },
  "language_info": {
   "codemirror_mode": {
    "name": "ipython",
    "version": 3
   },
   "file_extension": ".py",
   "mimetype": "text/x-python",
   "name": "python",
   "nbconvert_exporter": "python",
   "pygments_lexer": "ipython3",
   "version": "3.11.3"
  }
 },
 "nbformat": 4,
 "nbformat_minor": 5
}
