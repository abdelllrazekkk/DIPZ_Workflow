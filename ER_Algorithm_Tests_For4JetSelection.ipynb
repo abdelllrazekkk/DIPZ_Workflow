{
 "cells": [
  {
   "cell_type": "markdown",
   "id": "c434d034-9370-4520-b3e8-da1cc5cd6a3f",
   "metadata": {},
   "source": [
    "# Tests of the event rejection (ER) algorithm for four-jet event selections"
   ]
  },
  {
   "cell_type": "code",
   "execution_count": 1,
   "id": "43493193-aa14-48fe-8beb-828926751474",
   "metadata": {},
   "outputs": [],
   "source": [
    "from h5py import File\n",
    "import matplotlib.pyplot as plt\n",
    "import numpy as np\n",
    "import math\n",
    "from scipy.stats import norm\n",
    "import random\n",
    "import itertools as it\n",
    "import time\n",
    "import joblib"
   ]
  },
  {
   "cell_type": "code",
   "execution_count": 4,
   "id": "64ca5980",
   "metadata": {},
   "outputs": [
    {
     "name": "stdout",
     "output_type": "stream",
     "text": [
      "List of available datasets: ['jets']\n"
     ]
    }
   ],
   "source": [
    "#Opening the HDF5 File\n",
    "#input_file = \"../output.h5\"\n",
    "input_file = \"../data22_13p6TeV.00440499.physics_EnhancedBias.h5\"\n",
    "#input_file = \"../EBdata.h5\"\n",
    "#input_file = \"../hh4b.h5\"\n",
    "#input_file = \"../jz0.h5\"\n",
    "#input_file = \"../jz1.h5\"\n",
    "#input_file = \"../jz2.h5\"\n",
    "#input_file = \"../jz3.h5\"\n",
    "#input_file = \"../jz4.h5\"\n",
    "#input_file = \"../jz5.h5\"\n",
    "#input_file = \"../user.viruelas.27383479._000001.output.h5\"\n",
    "\n",
    "data = File(input_file, 'r')\n",
    "print(\"List of available datasets: \" + str(list(data.keys())))"
   ]
  },
  {
   "cell_type": "code",
   "execution_count": 5,
   "id": "03c63ded",
   "metadata": {},
   "outputs": [
    {
     "name": "stdout",
     "output_type": "stream",
     "text": [
      "The attributes of each element of the dataset (jets): dict_keys(['pt', 'eta', 'fastDips_pb', 'fastDips_pc', 'fastDips_pu', 'fastGN120230327_pb', 'fastGN120230327_pc', 'fastGN120230327_pu', 'dipz20230223_z', 'dipz20230223_negLogSigma2', 'jetPtRank', 'mcEventWeight', 'eventNumber', 'averageInteractionsPerCrossing', 'actualInteractionsPerCrossing', 'nPrimaryVertices', 'primaryVertexBeamspotZ', 'primaryVertexDetectorZUncertainty'])\n",
      "The shape of the dataset is: (22136,)\n"
     ]
    }
   ],
   "source": [
    "#Accessing the 'Jets' Dataset\n",
    "jets = data['jets']\n",
    "jets = np.asarray(jets)\n",
    "print(\"The attributes of each element of the dataset (jets): \" + str(jets.dtype.fields.keys()))\n",
    "print(\"The shape of the dataset is: \" + str(jets.shape))"
   ]
  },
  {
   "cell_type": "code",
   "execution_count": 6,
   "id": "bd2e013d-1aa6-431f-a459-edf88bef1cd9",
   "metadata": {},
   "outputs": [
    {
     "name": "stdout",
     "output_type": "stream",
     "text": [
      "The number of jets in the sample is: 22136\n",
      "The number of jets in the sample with pT < 20 GeV is: 0\n",
      "The number of jets in the sample with eta > 2.5 GeV is: 0\n"
     ]
    }
   ],
   "source": [
    "print(\"The number of jets in the sample is: \" + str(len(jets)))\n",
    "print(\"The number of jets in the sample with pT < 20 GeV is: \" + str(len(jets[jets[\"pt\"] < 20])))\n",
    "print(\"The number of jets in the sample with eta > 2.5 GeV is: \" + str(len(jets[jets[\"eta\"] > 2.5])))"
   ]
  },
  {
   "cell_type": "code",
   "execution_count": 7,
   "id": "be3aa850-bb71-4f57-8866-589cabc3abea",
   "metadata": {},
   "outputs": [
    {
     "name": "stdout",
     "output_type": "stream",
     "text": [
      "The number of events in our sample is: 6253\n",
      "The events_ID array looks like: [1117958940 1117959114 1117959199 ... 1144345763 1144346688 1144349488]\n"
     ]
    }
   ],
   "source": [
    "#Getting the events in our sample\n",
    "uniques = np.unique(jets[\"eventNumber\"])\n",
    "print(\"The number of events in our sample is: \" + str(len(uniques)))\n",
    "print(\"The events_ID array looks like: \" + str(uniques))"
   ]
  },
  {
   "cell_type": "code",
   "execution_count": 8,
   "id": "2aeba354-7a8c-43f6-acd7-aa055c0e188f",
   "metadata": {},
   "outputs": [
    {
     "name": "stdout",
     "output_type": "stream",
     "text": [
      "The number of events in our subset is: 5000\n",
      "The events_ID array of the subset looks like: [1117958940 1117959114 1117959199 ... 1121113878 1121114150 1121114536]\n"
     ]
    }
   ],
   "source": [
    "#Getting a subset the events in our sample\n",
    "sub_uniques = uniques[:5000]\n",
    "print(\"The number of events in our subset is: \" + str(len(sub_uniques)))\n",
    "print(\"The events_ID array of the subset looks like: \" + str(sub_uniques))"
   ]
  },
  {
   "cell_type": "code",
   "execution_count": 9,
   "id": "325018e2-55e2-4e7f-92d1-a57f34de28ba",
   "metadata": {
    "jupyter": {
     "source_hidden": true
    }
   },
   "outputs": [
    {
     "name": "stdout",
     "output_type": "stream",
     "text": [
      "CPU times: user 219 ms, sys: 0 ns, total: 219 ms\n",
      "Wall time: 264 ms\n"
     ]
    }
   ],
   "source": [
    "%%time\n",
    "# Getting an array of the jet multiplicities in the sample\n",
    "jet_multiplicities = []\n",
    "for i in uniques:\n",
    "#for i in fom_events:\n",
    "    jet_multiplicities.append(len(jets[jets[\"eventNumber\"] == i]))"
   ]
  },
  {
   "cell_type": "code",
   "execution_count": 82,
   "id": "21392664-df88-438d-957e-f4309aacdf84",
   "metadata": {
    "collapsed": true,
    "jupyter": {
     "outputs_hidden": true,
     "source_hidden": true
    }
   },
   "outputs": [
    {
     "data": {
      "image/png": "[encoded data removed]",
      "text/plain": [
       "<Figure size 640x480 with 1 Axes>"
      ]
     },
     "metadata": {},
     "output_type": "display_data"
    }
   ],
   "source": [
    "# Plotting the jet multiplicities in the sample\n",
    "plt.hist(jet_multiplicities, bins = 50, range=(0,50))\n",
    "plt.yscale('log')\n",
    "plt.xlim([0,35])\n",
    "#plt.ylim([0,22])\n",
    "plt.xlabel(\"jet_multiplicity\", loc='right')\n",
    "plt.title('The number of jets per event (jet multiplicity) in the sample')\n",
    "plt.show()"
   ]
  },
  {
   "cell_type": "code",
   "execution_count": null,
   "id": "124dff7b-25a2-43ec-b5d1-d3e587f2e3ce",
   "metadata": {
    "jupyter": {
     "source_hidden": true
    }
   },
   "outputs": [],
   "source": [
    "%%time\n",
    "# Getting an array of the leading jet pT's per event in the sample\n",
    "leading_pT = []\n",
    "for i in sub_uniques:\n",
    "    pTs = []\n",
    "    event_jets = jets[jets[\"eventNumber\"] == i]\n",
    "    for jet in event_jets:\n",
    "        pTs.append(jet['pt'])\n",
    "    leading_pT.append(max(pTs))"
   ]
  },
  {
   "cell_type": "code",
   "execution_count": 17,
   "id": "6beeb6f7-9584-473b-9a5e-cae16453ebf2",
   "metadata": {
    "collapsed": true,
    "jupyter": {
     "outputs_hidden": true,
     "source_hidden": true
    }
   },
   "outputs": [
    {
     "data": {
      "image/png": "[encoded data removed]",
      "text/plain": [
       "<Figure size 640x480 with 1 Axes>"
      ]
     },
     "metadata": {},
     "output_type": "display_data"
    }
   ],
   "source": [
    "# Plotting the leading jet pT's per event in the sample\n",
    "plt.hist(leading_pT, bins = 10)\n",
    "plt.yscale('log')\n",
    "plt.xlabel(\"leading jet pT\", loc='right')\n",
    "plt.title('The leading jet pT per event in the sample')\n",
    "plt.show()"
   ]
  },
  {
   "cell_type": "code",
   "execution_count": null,
   "id": "9f526594-e4e3-47c4-b226-08959ae27a77",
   "metadata": {
    "jupyter": {
     "source_hidden": true
    }
   },
   "outputs": [],
   "source": [
    "%%time\n",
    "# Getting an array of the sub-leading jet pT's per event in the sample\n",
    "subleading_pT = []\n",
    "for i in uniques:\n",
    "    pTs = []\n",
    "    event_jets = jets[jets[\"eventNumber\"] == i]\n",
    "    for jet in event_jets:\n",
    "        pTs.append(jet[\"pt\"])\n",
    "    if len(pTs) > 1: \n",
    "        subleading_pT.append(sorted(pTs)[-2])"
   ]
  },
  {
   "cell_type": "code",
   "execution_count": 19,
   "id": "9366b736-739e-47ce-9ec1-8c3d7be4e7b4",
   "metadata": {
    "collapsed": true,
    "jupyter": {
     "outputs_hidden": true,
     "source_hidden": true
    }
   },
   "outputs": [
    {
     "data": {
      "image/png": "[encoded data removed]",
      "text/plain": [
       "<Figure size 640x480 with 1 Axes>"
      ]
     },
     "metadata": {},
     "output_type": "display_data"
    }
   ],
   "source": [
    "# Plotting the sub-leading jet pT's per event in the sample\n",
    "plt.hist(subleading_pT, bins = 10)\n",
    "plt.yscale('log')\n",
    "plt.xlabel(\"sub-eading jet pT\", loc='right')\n",
    "plt.title('The sub-leading jet pT per event in the sample')\n",
    "plt.show()"
   ]
  },
  {
   "cell_type": "code",
   "execution_count": 11,
   "id": "0a71f864-cbff-46ff-8dd1-70d613e95217",
   "metadata": {},
   "outputs": [
    {
     "name": "stdout",
     "output_type": "stream",
     "text": [
      "The number of events that have four or more (fom) selected jets is: 2165\n",
      "CPU times: user 175 ms, sys: 0 ns, total: 175 ms\n",
      "Wall time: 176 ms\n"
     ]
    }
   ],
   "source": [
    "%%time\n",
    "#Filtering the four-or-more jet events\n",
    "fom_events = []\n",
    "counter = 0\n",
    "\n",
    "for id in sub_uniques:\n",
    "    if len(jets[jets[\"eventNumber\"] == id]) >= 4:\n",
    "        fom_events.append(id)\n",
    "        counter +=1\n",
    "    #if counter == 1000:\n",
    "        #break\n",
    "\"\"\"\n",
    "for id in sub_uniques:\n",
    "    event_jets = jets[jets[\"eventNumber\"] == id]\n",
    "    bjets = event_jets[event_jets[\"HadronConeExclTruthLabelID\"] == 5]\n",
    "    if len(event_jets) >= 4 & len(bjets) >= 4:\n",
    "        fom_events.append(id)\n",
    "        #counter +=1\n",
    "    #if counter == 100:\n",
    "        #break\n",
    "\"\"\"\n",
    "print(\"The number of events that have four or more (fom) selected jets is: \" + str(len(fom_events)))"
   ]
  },
  {
   "cell_type": "code",
   "execution_count": 12,
   "id": "d211ad82-d881-45c5-af4a-7c4537e6c0ac",
   "metadata": {
    "jupyter": {
     "source_hidden": true
    }
   },
   "outputs": [],
   "source": [
    "# A function that takes in the event number and calculates the maximum over 4-jet combinations of log of the product of the \n",
    "# likelihood functions of all the jets in the event NUMERICALLY\n",
    "\n",
    "def get_max_log_likelihood_num(event_id,jets):\n",
    "    event_jets = jets[jets[\"eventNumber\"] == event_id]\n",
    "    #num_jets = len(event_jets)\n",
    "    z = np.arange(-5*50, 5*50, 0.1)\n",
    "\n",
    "    combinations = []\n",
    "    mlpl_array = []\n",
    "\n",
    "    for combination in it.combinations(event_jets, 4):\n",
    "        combinations.append(combination)\n",
    "\n",
    "    for comb in combinations:\n",
    "        log_total_likelihood = -4 * np.log(np.sqrt(2*np.pi))\n",
    "            \n",
    "        for jet in comb:\n",
    "            mu = jet[\"dipz20230223_z\"] * 50\n",
    "            sigma = np.exp(-0.5*jet[\"dipz20230223_negLogSigma2\"]) *50\n",
    "            #likelihood = (2*np.pi)**(-1/2) * (sigma)**(-1) * np.exp( -1 * (z - mu)**2 * (2 * sigma^2)**(-1) )\n",
    "            log_total_likelihood -= ( np.log(sigma) + (z - mu)**2 * (2 * sigma**(2))**(-1) )\n",
    "    \n",
    "        mlpl_array.append(max(log_total_likelihood))\n",
    "            \n",
    "    \n",
    "    max_log_likelihood = max(mlpl_array)\n",
    "        \n",
    "    return max_log_likelihood"
   ]
  },
  {
   "cell_type": "code",
   "execution_count": 13,
   "id": "942ae157-b08d-4f88-b165-459f18c5cb45",
   "metadata": {},
   "outputs": [],
   "source": [
    "# A function that takes in the event number and calculates the maximum over 4-jet combinations of log of the product of the likelihood functions \n",
    "# of all the jets in the event ANALYTICALLY\n",
    "def get_max_log_likelihood_an(event_id,jets,comb_num,num_highest_pt=555555):\n",
    "    event_jets = jets[jets[\"eventNumber\"] == event_id]\n",
    "    \n",
    "    if num_highest_pt != 555555:\n",
    "        if len(event_jets) > num_highest_pt:\n",
    "            event_jets = event_jets[(-event_jets['pt']).argsort()[:num_highest_pt]]\n",
    "    \n",
    "    combinations = []\n",
    "    mlpl_array = []\n",
    "\n",
    "    for combination in it.combinations(event_jets, comb_num):\n",
    "        combinations.append(combination)\n",
    "\n",
    "    for comb in combinations:\n",
    "        num = 0\n",
    "        denom = 0\n",
    "        second_term = 0\n",
    "        third_term = 0\n",
    "        for jet in comb:\n",
    "            mu = jet[\"dipz20230223_z\"] * 50\n",
    "            sigma = np.exp(-0.5*jet[\"dipz20230223_negLogSigma2\"]) * 50\n",
    "\n",
    "            num += (mu) / (sigma**2)\n",
    "            denom += 1 / (sigma**2)\n",
    "            second_term -= np.log(sigma)\n",
    "        for jet in comb:\n",
    "            mu = jet[\"dipz20230223_z\"] * 50\n",
    "            sigma = np.exp(-0.5*jet[\"dipz20230223_negLogSigma2\"]) * 50\n",
    "\n",
    "            third_term -= ((num / denom) - mu)**2 / (2*sigma**2) \n",
    "            \n",
    "        mlpl_array.append(-4 * np.log(np.sqrt(2*np.pi)) + second_term + third_term)\n",
    "            \n",
    "    \n",
    "    max_log_likelihood = max(mlpl_array)\n",
    "        \n",
    "    return max_log_likelihood"
   ]
  },
  {
   "cell_type": "code",
   "execution_count": 14,
   "id": "e70d4958-6aeb-464e-8a85-a98f9befbe84",
   "metadata": {
    "jupyter": {
     "source_hidden": true
    }
   },
   "outputs": [],
   "source": [
    "# A function that takes in the event number and calculates the maximum over 4-jet combinations of log of the product of the \n",
    "# likelihood functions of all the jets in the event ANALYTICALLY\n",
    "\n",
    "def get_max_log_likelihood_an_hh4b(event_id,jets,comb_num,num_highest_pt=555555):\n",
    "    event_jets = jets[jets[\"eventNumber\"] == event_id]\n",
    "\n",
    "    if num_highest_pt != 555555:\n",
    "        if len(event_jets) > num_highest_pt:\n",
    "            event_jets = event_jets[(-event_jets['pt']).argsort()[:num_highest_pt]]\n",
    "    \n",
    "    combinations = []\n",
    "\n",
    "    for combination in it.combinations(event_jets, comb_num):\n",
    "        combinations.append(combination)\n",
    "\n",
    "    mlpl = -999999999999\n",
    "    num_bjets_chosen = 0\n",
    "\n",
    "    for comb in combinations:\n",
    "        num = 0\n",
    "        denom = 0\n",
    "        second_term = 0\n",
    "        third_term = 0\n",
    "        num_bjets = 0 \n",
    "        for jet in comb:\n",
    "            mu = jet[\"dipz20230223_z\"] * 50\n",
    "            sigma = np.exp(-0.5*jet[\"dipz20230223_negLogSigma2\"]) * 50\n",
    "\n",
    "            num += (mu) / (sigma**2)\n",
    "            denom += 1 / (sigma**2)\n",
    "            second_term -= np.log(sigma)\n",
    "            \n",
    "        for jet in comb:\n",
    "            mu = jet[\"dipz20230223_z\"] * 50\n",
    "            sigma = np.exp(-0.5*jet[\"dipz20230223_negLogSigma2\"]) * 50\n",
    "\n",
    "            third_term -= ((num / denom) - mu)**2 / (2*sigma**2)\n",
    "\n",
    "            if jet['HadronConeExclTruthLabelID'] == 5:\n",
    "               num_bjets += 1\n",
    "    \n",
    "        if -4 * np.log(np.sqrt(2*np.pi)) + second_term + third_term > mlpl:\n",
    "            mlpl = -4 * np.log(np.sqrt(2*np.pi)) + second_term + third_term\n",
    "            num_bjets_chosen = num_bjets\n",
    "    \n",
    "    max_log_likelihood = mlpl\n",
    "    \n",
    "    return max_log_likelihood, num_bjets_chosen"
   ]
  },
  {
   "cell_type": "code",
   "execution_count": 15,
   "id": "56db9e5b-cab9-413a-95cd-17fb0b181c9d",
   "metadata": {},
   "outputs": [
    {
     "data": {
      "text/plain": [
       "7"
      ]
     },
     "execution_count": 15,
     "metadata": {},
     "output_type": "execute_result"
    }
   ],
   "source": [
    "len(jets[jets[\"eventNumber\"] == fom_events[1]])"
   ]
  },
  {
   "cell_type": "code",
   "execution_count": 98,
   "id": "e78b09d8-0f81-4135-9663-b6c3ee39000c",
   "metadata": {},
   "outputs": [
    {
     "name": "stdout",
     "output_type": "stream",
     "text": [
      "CPU times: user 5.7 s, sys: 48.2 ms, total: 5.75 s\n",
      "Wall time: 5.84 s\n"
     ]
    }
   ],
   "source": [
    "%%time\n",
    "for i in fom_events:\n",
    "    get_max_log_likelihood_an_hh4b(i,jets,4)\n",
    "    #break"
   ]
  },
  {
   "cell_type": "code",
   "execution_count": 99,
   "id": "4b8e6931-237e-4294-a629-db1d2ab9723c",
   "metadata": {},
   "outputs": [
    {
     "name": "stdout",
     "output_type": "stream",
     "text": [
      "CPU times: user 3.4 s, sys: 19.5 ms, total: 3.42 s\n",
      "Wall time: 3.48 s\n"
     ]
    }
   ],
   "source": [
    "%%time\n",
    "for i in fom_events:\n",
    "    get_max_log_likelihood_an_hh4b(i,jets,3)\n",
    "    #break"
   ]
  },
  {
   "cell_type": "code",
   "execution_count": 100,
   "id": "bd261422-f032-4884-a89b-77c7fad836f9",
   "metadata": {},
   "outputs": [
    {
     "name": "stdout",
     "output_type": "stream",
     "text": [
      "CPU times: user 1.75 s, sys: 11.4 ms, total: 1.76 s\n",
      "Wall time: 1.78 s\n"
     ]
    }
   ],
   "source": [
    "%%time\n",
    "for i in fom_events:\n",
    "    get_max_log_likelihood_an_hh4b(i,jets,3,5)\n",
    "    #break"
   ]
  },
  {
   "cell_type": "code",
   "execution_count": 102,
   "id": "3f108227-d3a6-4165-951c-4ceed0894052",
   "metadata": {},
   "outputs": [
    {
     "name": "stdout",
     "output_type": "stream",
     "text": [
      "CPU times: user 1.89 s, sys: 25 ms, total: 1.91 s\n",
      "Wall time: 2 s\n"
     ]
    }
   ],
   "source": [
    "%%time\n",
    "for i in fom_events:\n",
    "    get_max_log_likelihood_an_hh4b(i,jets,2)\n",
    "    #break"
   ]
  },
  {
   "cell_type": "code",
   "execution_count": 103,
   "id": "3f51a2b0-7a79-4ade-b453-a1911a9893c4",
   "metadata": {
    "jupyter": {
     "source_hidden": true
    }
   },
   "outputs": [],
   "source": [
    "def get_max_log_likelihood_dist(string, num=999999999999999):\n",
    "    start = time.time()\n",
    "    data = File(string, 'r')\n",
    "    jets = data['jets']\n",
    "    uniques = np.unique(jets[\"eventNumber\"])\n",
    "    \n",
    "    print(\"The number of jets in the sample is: \" + str(len(jets)))\n",
    "    print(\"The number of jets in the sample with pT < 20 GeV is: \" + str(len(jets[jets[\"pt\"] < 20])))\n",
    "    print(\"The number of jets in the sample with eta > 2.5 GeV is: \" + str(len(jets[jets[\"eta\"] > 2.5])))\n",
    "    print(\"The number of events in our sample is: \" + str(len(uniques)))\n",
    "    \n",
    "    max_log_likelihood_list = []\n",
    "    no_of_processed_events = num\n",
    "    counter = 0\n",
    "\n",
    "    for id in uniques:\n",
    "        if len(jets[jets[\"eventNumber\"] == id]) >= 4:\n",
    "            max_log_likelihood_list.append(get_max_log_likelihood_an(id,jets))\n",
    "            counter +=1\n",
    "        if counter == no_of_processed_events:\n",
    "            break\n",
    "\n",
    "    if counter == no_of_processed_events:\n",
    "        print(\"The provided number of four or more jet events in the sample was run over and it is: \" + str(num))\n",
    "    if counter != no_of_processed_events:\n",
    "        print(\"The number of four or more jet events in the sample is: \" + str(counter))\n",
    "        print(\"The number of four or more jet events in the sample is less than the provided number, therefore all the sample was run over.\")\n",
    "    end = time.time()\n",
    "    print(\"The time of execution of the (get_max_log_likelihood_dist) function is :\", ((end-start) / 60) , \"min\")\n",
    "\n",
    "    return max_log_likelihood_list\n",
    "\n",
    "def plot_distribution(max_log_likelihood_list):\n",
    "    plt.hist(max_log_likelihood_list, bins = 500)\n",
    "    plt.yscale(\"log\")\n",
    "    plt.xlabel(\"MLPL\", loc='right')\n",
    "    plt.title('Distribution of the discriminant variable (MLPL)')\n",
    "    plt.show()"
   ]
  },
  {
   "cell_type": "code",
   "execution_count": 104,
   "id": "1cc84f6b-9e89-4fbd-8a7b-905144779bee",
   "metadata": {
    "jupyter": {
     "source_hidden": true
    }
   },
   "outputs": [],
   "source": [
    "def get_max_log_likelihood_dist_hh4b(name, comb_num, num=999999999999999, num_highest_pt=555555):\n",
    "    t1 = time.time()\n",
    "    \n",
    "    data = File(name, 'r')\n",
    "    jets = data['jets']\n",
    "    jets = np.asarray(jets)\n",
    "    uniques = np.unique(jets[\"eventNumber\"])\n",
    "    \n",
    "    \"\"\"print(\"The number of jets in the sample is: \" + str(len(jets)))\n",
    "    print(\"The number of jets in the sample with pT < 20 GeV is: \" + str(len(jets[jets[\"pt\"] < 20])))\n",
    "    print(\"The number of jets in the sample with eta > 2.5 GeV is: \" + str(len(jets[jets[\"eta\"] > 2.5])))\n",
    "    print(\"The number of events in our sample is: \" + str(len(uniques)))\"\"\"\n",
    "    \n",
    "    max_log_likelihood_list = []\n",
    "    num_bjets_chosen_list = []\n",
    "    jet_multiplicities = []\n",
    "    no_of_processed_events = num\n",
    "    counter = 0\n",
    "    \n",
    "    t2 = time.time()\n",
    "\n",
    "    print(\"The time of execution of the initialization functions is :\", (round(t2-t1, 2)) , \"sec\")\n",
    "\n",
    "    time_preparing_eventjets = 0\n",
    "    time_executing_getMLPL = 0\n",
    "    time_executing_getMultiplicity = 0\n",
    "    time_executing_whole_eventloop = 0\n",
    "\n",
    "\n",
    "    t3 = time.time()\n",
    "    for id in uniques:\n",
    "        t5 = time.time()\n",
    "        jet_multiplicities.append(len(jets[jets[\"eventNumber\"] == id]))\n",
    "        t6 = time.time()\n",
    "        time_executing_getMultiplicity += t6-t5\n",
    "        t7 = time.time()\n",
    "        event_jets = jets[jets[\"eventNumber\"] == id]\n",
    "        bjets = event_jets[event_jets[\"HadronConeExclTruthLabelID\"] == 5]\n",
    "        t8 = time.time()\n",
    "        time_preparing_eventjets += t8-t7\n",
    "        if len(event_jets) >= 4 & len(bjets) >= 4:\n",
    "            t9 = time.time()\n",
    "            max_log_likelihood, num_bjets_chosen = get_max_log_likelihood_an_hh4b(id,jets,comb_num,num_highest_pt)\n",
    "            max_log_likelihood_list.append(max_log_likelihood)\n",
    "            num_bjets_chosen_list.append(num_bjets_chosen)\n",
    "            t10 = time.time()\n",
    "            time_executing_getMLPL += t10-t9\n",
    "            counter +=1\n",
    "        if counter == no_of_processed_events:\n",
    "            break\n",
    "    t4 = time.time()\n",
    "\n",
    "    time_executing_whole_eventloop += t4-t3\n",
    "\n",
    "    if counter == no_of_processed_events:\n",
    "        print(\"The provided number of four or more b-jet events in the sample was run over and it is: \" + str(num))\n",
    "    if counter != no_of_processed_events:\n",
    "        print(\"The number of four or more b-jet events in the sample is: \" + str(counter))\n",
    "        print(\"The number of four or more b-jet events in the sample is less than the provided number, therefore all the sample was run over.\")\n",
    "    t11 = time.time()\n",
    "\n",
    "    print(\"The time_preparing_eventjets is:\", round(time_preparing_eventjets, 2), \"sec\")\n",
    "    print(\"The time_executing_getMLPL is:\", round(time_executing_getMLPL, 2), \"sec\")\n",
    "    print(\"The time_executing_getMultiplicity is:\", round(time_executing_getMultiplicity, 2), \"sec\")\n",
    "    print(\"The time_executing_whole_eventloop is:\", round(time_executing_whole_eventloop, 2), \"sec\")\n",
    "    print(\"The time of execution of the (get_max_log_likelihood_dist) on the (\" +name+ \") file function is:\", round(t11-t1, 2) , \"sec\")\n",
    "\n",
    "    return max_log_likelihood_list, jet_multiplicities, num_bjets_chosen_list"
   ]
  },
  {
   "cell_type": "code",
   "execution_count": 105,
   "id": "3834927c-8735-43df-be73-9cbb0da8437b",
   "metadata": {
    "collapsed": true,
    "jupyter": {
     "outputs_hidden": true,
     "source_hidden": true
    }
   },
   "outputs": [
    {
     "name": "stdout",
     "output_type": "stream",
     "text": [
      "The time of execution of the initialization functions is : 0.25 sec\n",
      "The provided number of four or more b-jet events in the sample was run over and it is: 100\n",
      "The time_preparing_eventjets is: 0.16 sec\n",
      "The time_executing_getMLPL is: 0.48 sec\n",
      "The time_executing_getMultiplicity is: 0.15 sec\n",
      "The time_executing_whole_eventloop is: 0.79 sec\n",
      "The time of execution of the (get_max_log_likelihood_dist) on the (../hh4b.h5) file function is: 1.04 sec\n"
     ]
    },
    {
     "data": {
      "image/png": "[encoded data removed]",
      "text/plain": [
       "<Figure size 640x480 with 1 Axes>"
      ]
     },
     "metadata": {},
     "output_type": "display_data"
    },
    {
     "data": {
      "text/plain": [
       "['test_dist.sav']"
      ]
     },
     "execution_count": 105,
     "metadata": {},
     "output_type": "execute_result"
    }
   ],
   "source": [
    "test_dist, jet_multiplicities, num_bjets_chosen_list = get_max_log_likelihood_dist_hh4b(input_file, 4, 100)\n",
    "plot_distribution(test_dist)\n",
    "joblib.dump(test_dist, 'test_dist.sav')"
   ]
  },
  {
   "cell_type": "code",
   "execution_count": 21,
   "id": "ba4edb45-6c00-4b34-b8d6-10a991d9a250",
   "metadata": {},
   "outputs": [
    {
     "data": {
      "text/plain": [
       "4"
      ]
     },
     "execution_count": 21,
     "metadata": {},
     "output_type": "execute_result"
    }
   ],
   "source": [
    "len(jets[jets[\"eventNumber\"] == fom_events[4]])"
   ]
  },
  {
   "cell_type": "code",
   "execution_count": 49,
   "id": "9147f5df-dba6-4740-8cad-9954f3aedb67",
   "metadata": {},
   "outputs": [
    {
     "data": {
      "image/png": "[encoded data removed]",
      "text/plain": [
       "<Figure size 640x480 with 1 Axes>"
      ]
     },
     "metadata": {},
     "output_type": "display_data"
    },
    {
     "name": "stdout",
     "output_type": "stream",
     "text": [
      "MLLP for this event is: -12.082714974668404\n"
     ]
    }
   ],
   "source": [
    "# Visualizing the jets in one event\n",
    "index = 1\n",
    "\n",
    "event_id = fom_events[index]\n",
    "event_jets = jets[jets[\"eventNumber\"] == event_id]\n",
    "num_jets = len(event_jets)\n",
    "\n",
    "#Generating random colors for  the plot\n",
    "color=[\"#\"+''.join([random.choice('0123456789ABCDEF') for i in range(6)])\n",
    "           for j in range(num_jets)]\n",
    "ic = 0      #color counter\n",
    "x = np.arange(-4*50, 4*50, 0.1)\n",
    "\n",
    "for i in range(num_jets):\n",
    "    mu = event_jets[i][\"dipz20230223_z\"] * 50\n",
    "    sigma = np.exp(-0.5*event_jets[i][\"dipz20230223_negLogSigma2\"]) * 50\n",
    "    #plt.plot(x, norm.pdf(x, event_jets[i][\"dipz20230223_z\"], np.exp(-0.5*event_jets[i][\"dipz20230223_negLogSigma2\"])), color=color[ic], linewidth=2, label='Jet '+str(ic))\n",
    "    plt.plot(x, norm.pdf(x, mu, sigma), color=color[ic], linewidth=2, label='Jet '+str(ic))\n",
    "    ic = ic + 1    \n",
    "plt.xlabel(\"z (mm)\", loc='right')\n",
    "plt.title(\"Regressed gaussians for the event jets' origins on the z-axis\")\n",
    "plt.xlim([-150, 150])\n",
    "plt.legend()\n",
    "plt.show()\n",
    "#plt.cla()\n",
    "\n",
    "print(\"MLLP for this event is: \" + str(get_max_log_likelihood_an(fom_events[index],jets, 4)))"
   ]
  },
  {
   "cell_type": "markdown",
   "id": "7afadb24-b178-4685-abb8-96fd6ffdfef5",
   "metadata": {},
   "source": [
    "__________________________________________________________________________________________________________________________________________________________________________________________________________________________________________________________________________________________________________________________________________________________________________________________________________________________________________________________________________________________________________________________________________________________________________________________________________________________________________________________________________________________________________________________________________________________________________________________________________________________________________________________________________________________________________________________________________________________________"
   ]
  },
  {
   "cell_type": "markdown",
   "id": "5809f20b-93b9-455d-b5e6-a338509549b8",
   "metadata": {},
   "source": [
    "__________________________________________________________________________________________________________________________________________________________________________________________________________________________________________________________________________________________________________________________________________________________________________________________________________________________________________________________________________________________________________________________________________________________________________________________________________________________________________________________________________________________________________________________________________________________________________________________________________________________________________________________________________________________________________________________________________________________________"
   ]
  },
  {
   "cell_type": "markdown",
   "id": "fd159a93-6008-4c50-a8e9-570450e67841",
   "metadata": {},
   "source": [
    "__________________________________________________________________________________________________________________________________________________________________________________________________________________________________________________________________________________________________________________________________________________________________________________________________________________________________________________________________________________________________________________________________________________________________________________________________________________________________________________________________________________________________________________________________________________________________________________________________________________________________________________________________________________________________________________________________________________________________"
   ]
  },
  {
   "cell_type": "markdown",
   "id": "7d360d30-ad1f-4db4-a4ab-29605022afb9",
   "metadata": {},
   "source": [
    "## Doing the leading pT distribution the weighted sum of the JZ slices ="
   ]
  },
  {
   "cell_type": "code",
   "execution_count": 25,
   "id": "ee4fe16b-7bd4-4307-beba-b5e480c643ac",
   "metadata": {},
   "outputs": [],
   "source": [
    "norm_jz0 = 50000 / len(leading_pT_jz0)\n",
    "norm_jz1 = 50000 / len(leading_pT_jz1)\n",
    "norm_jz2 = 50000 / len(leading_pT_jz2)\n",
    "norm_jz3 = 50000 / len(leading_pT_jz3)\n",
    "norm_jz4 = 50000 / len(leading_pT_jz4)\n",
    "norm_jz5 = 50000 / len(leading_pT_jz5)"
   ]
  },
  {
   "cell_type": "code",
   "execution_count": 26,
   "id": "685f7cd1-62d6-4e26-affb-8365687a66a0",
   "metadata": {},
   "outputs": [],
   "source": [
    "leading_pT_jz0 = joblib.load(\"./leading_pt_dist/leading_pT_jz0_dist.sav\")\n",
    "leading_pT_jz1 = joblib.load(\"./leading_pt_dist/leading_pT_jz1_dist.sav\")\n",
    "leading_pT_jz2 = joblib.load(\"./leading_pt_dist/leading_pT_jz2_dist.sav\")\n",
    "leading_pT_jz3 = joblib.load(\"./leading_pt_dist/leading_pT_jz3_dist.sav\")\n",
    "leading_pT_jz4 = joblib.load(\"./leading_pt_dist/leading_pT_jz4_dist.sav\")\n",
    "leading_pT_jz5 = joblib.load(\"./leading_pt_dist/leading_pT_jz5_dist.sav\")"
   ]
  },
  {
   "cell_type": "code",
   "execution_count": 27,
   "id": "25679b72-d205-461b-a385-3d215a1d086b",
   "metadata": {},
   "outputs": [],
   "source": [
    "weights_jz0 = np.full_like(leading_pT_jz0,norm_jz0 * 0.7651165653000001)\n",
    "weights_jz1 = np.full_like(leading_pT_jz1,norm_jz1 * 0.0032993956809600007)\n",
    "weights_jz2 = np.full_like(leading_pT_jz2,norm_jz2 * 2.6009622717000003e-05)\n",
    "weights_jz3 = np.full_like(leading_pT_jz3,norm_jz3 * 3.3590422200000005e-07)\n",
    "weights_jz4 = np.full_like(leading_pT_jz4,norm_jz4 * 3.8673973868e-09)\n",
    "weights_jz5 = np.full_like(leading_pT_jz5,norm_jz5 * 7.7799492096e-11)"
   ]
  },
  {
   "cell_type": "code",
   "execution_count": 28,
   "id": "af79f39f-1cd1-4cf9-97da-5d40e7b078a4",
   "metadata": {},
   "outputs": [],
   "source": [
    "no_bins = 100\n",
    "leading_pT_jz0_hist, jz0_bin_edges = np.histogram(leading_pT_jz0, weights=weights_jz0, bins = no_bins, range = (0, 100000))\n",
    "leading_pT_jz1_hist, jz1_bin_edges = np.histogram(leading_pT_jz1, weights=weights_jz1, bins = no_bins, range = (0, 100000))\n",
    "leading_pT_jz2_hist, jz2_bin_edges = np.histogram(leading_pT_jz2, weights=weights_jz2, bins = no_bins, range = (0, 100000))\n",
    "leading_pT_jz3_hist, jz3_bin_edges = np.histogram(leading_pT_jz3, weights=weights_jz3, bins = no_bins, range = (0, 100000))\n",
    "leading_pT_jz4_hist, jz4_bin_edges = np.histogram(leading_pT_jz4, weights=weights_jz4, bins = no_bins, range = (0, 100000))\n",
    "leading_pT_jz5_hist, jz5_bin_edges = np.histogram(leading_pT_jz5, weights=weights_jz5, bins = no_bins, range = (0, 100000))"
   ]
  },
  {
   "cell_type": "code",
   "execution_count": 29,
   "id": "c0e4a787-3476-4695-9685-2c7961ec14e1",
   "metadata": {},
   "outputs": [],
   "source": [
    "leading_pT_total_hist = leading_pT_jz0_hist + leading_pT_jz1_hist + leading_pT_jz2_hist + leading_pT_jz3_hist + leading_pT_jz4_hist + leading_pT_jz5_hist"
   ]
  },
  {
   "cell_type": "code",
   "execution_count": 30,
   "id": "7f31005b-f430-4f0f-bafd-928f29f7d6a4",
   "metadata": {},
   "outputs": [
    {
     "data": {
      "image/png": "[encoded data removed]",
      "text/plain": [
       "<Figure size 640x480 with 1 Axes>"
      ]
     },
     "metadata": {},
     "output_type": "display_data"
    }
   ],
   "source": [
    "\"\"\"JZ slices leading pT combined histograms\"\"\"\n",
    "bins = np.linspace(0, 100000, 100)\n",
    "\n",
    "plt.plot(jz0_bin_edges[1:],leading_pT_total_hist, alpha=1, label='JZ_weighted_sum')\n",
    "#plt.hist(leading_pT_jz0, bins, weights=weights_jz0, alpha=1, label='jz0_dist', histtype='stepfilled')\n",
    "#plt.hist(leading_pT_jz1, bins, weights=weights_jz1, alpha=0.5, label='jz1_dist', histtype='step')\n",
    "#plt.hist(leading_pT_jz2, bins, weights=weights_jz2, alpha=0.4, label='jz2_dist', histtype='step')\n",
    "#plt.hist(leading_pT_jz3, bins, weights=weights_jz3, alpha=0.3, label='jz3_dist', histtype='step')\n",
    "#plt.hist(leading_pT_jz4, bins, weights=weights_jz4, alpha=0.2, label='jz4_dist', histtype='step')\n",
    "#plt.hist(leading_pT_jz5, bins, weights=weights_jz5, alpha=0.5, label='jz5_dist', histtype='step')\n",
    "plt.legend(loc='center left', bbox_to_anchor=(1, 0.5))\n",
    "plt.yscale('log')\n",
    "plt.title(\"JZ slices leading pT combined histograms\")\n",
    "plt.xlabel(\"leading pT\")\n",
    "plt.show()"
   ]
  },
  {
   "cell_type": "markdown",
   "id": "ad81efeb-9754-449a-8598-1716b72bd38f",
   "metadata": {},
   "source": [
    "__________________________________________________________________________________________________________________________________________________________________________________________________________________________________________________________________________________________________________________________________________________________________________________________________________________________________________________________________________________________________________________________________________________________________________________________________________________________________________________________________________________________________________________________________________________________________________________________________________________________________________________________________________________________________________________________________________________________________"
   ]
  },
  {
   "cell_type": "markdown",
   "id": "3826a8ba-b488-4359-a7f7-1d482a00facd",
   "metadata": {},
   "source": [
    "__________________________________________________________________________________________________________________________________________________________________________________________________________________________________________________________________________________________________________________________________________________________________________________________________________________________________________________________________________________________________________________________________________________________________________________________________________________________________________________________________________________________________________________________________________________________________________________________________________________________________________________________________________________________________________________________________________________________________"
   ]
  },
  {
   "cell_type": "markdown",
   "id": "2f9c1e67-85b9-4b29-83bf-f96cfa551427",
   "metadata": {},
   "source": [
    "__________________________________________________________________________________________________________________________________________________________________________________________________________________________________________________________________________________________________________________________________________________________________________________________________________________________________________________________________________________________________________________________________________________________________________________________________________________________________________________________________________________________________________________________________________________________________________________________________________________________________________________________________________________________________________________________________________________________________"
   ]
  },
  {
   "cell_type": "markdown",
   "id": "0d16ab69-2911-48c9-a03f-41f017c0e207",
   "metadata": {},
   "source": [
    "__________________________________________________________________________________________________________________________________________________________________________________________________________________________________________________________________________________________________________________________________________________________________________________________________________________________________________________________________________________________________________________________________________________________________________________________________________________________________________________________________________________________________________________________________________________________________________________________________________________________________________________________________________________________________________________________________________________________________"
   ]
  },
  {
   "cell_type": "markdown",
   "id": "60e0f02b-b9eb-4479-8bad-ba9fa2825c05",
   "metadata": {},
   "source": [
    "__________________________________________________________________________________________________________________________________________________________________________________________________________________________________________________________________________________________________________________________________________________________________________________________________________________________________________________________________________________________________________________________________________________________________________________________________________________________________________________________________________________________________________________________________________________________________________________________________________________________________________________________________________________________________________________________________________________________________"
   ]
  },
  {
   "cell_type": "markdown",
   "id": "cd65da5f-98f9-43df-ac54-26e7f593c4a6",
   "metadata": {},
   "source": [
    "__________________________________________________________________________________________________________________________________________________________________________________________________________________________________________________________________________________________________________________________________________________________________________________________________________________________________________________________________________________________________________________________________________________________________________________________________________________________________________________________________________________________________________________________________________________________________________________________________________________________________________________________________________________________________________________________________________________________________"
   ]
  },
  {
   "cell_type": "markdown",
   "id": "3f1501ff-fd2f-4baf-ab0f-3a4d5aefa3b7",
   "metadata": {},
   "source": [
    "# Trial and Error"
   ]
  },
  {
   "cell_type": "code",
   "execution_count": 48,
   "id": "8327522e-a373-4466-a3cd-929a7dce4f22",
   "metadata": {},
   "outputs": [],
   "source": [
    "def get_max_log_likelihood_an_hh4b(event_id,jets,comb_num,num_highest_pt=555555):\n",
    "    event_jets = jets[jets[\"eventNumber\"] == event_id]\n",
    "\n",
    "    if num_highest_pt != 555555:\n",
    "        if len(event_jets) > num_highest_pt:\n",
    "            event_jets = event_jets[(-event_jets['pt']).argsort()[:num_highest_pt]]\n",
    "    \n",
    "    combinations = []\n",
    "\n",
    "    for combination in it.combinations(event_jets, comb_num):\n",
    "        combinations.append(combination)\n",
    "\n",
    "    mlpl = -999999999999\n",
    "    num_bjets_chosen = 0\n",
    "\n",
    "    for comb in combinations:\n",
    "        num = 0\n",
    "        denom = 0\n",
    "        second_term = 0\n",
    "        third_term = 0\n",
    "        num_bjets = 0 \n",
    "        for jet in comb:\n",
    "            mu = jet[\"dipz20230223_z\"] * 50\n",
    "            sigma = np.exp(-0.5*jet[\"dipz20230223_negLogSigma2\"]) * 50\n",
    "\n",
    "            num += (mu) / (sigma**2)\n",
    "            denom += 1 / (sigma**2)\n",
    "            second_term -= np.log(sigma)\n",
    "            \n",
    "        for jet in comb:\n",
    "            mu = jet[\"dipz20230223_z\"] * 50\n",
    "            sigma = np.exp(-0.5*jet[\"dipz20230223_negLogSigma2\"]) * 50\n",
    "\n",
    "            third_term -= ((num / denom) - mu)**2 / (2*sigma**2)\n",
    "\n",
    "            if jet['HadronConeExclTruthLabelID'] == 5:\n",
    "               num_bjets += 1\n",
    "    \n",
    "        if -4 * np.log(np.sqrt(2*np.pi)) + second_term + third_term > mlpl:\n",
    "            mlpl = -4 * np.log(np.sqrt(2*np.pi)) + second_term + third_term\n",
    "            num_bjets_chosen = num_bjets\n",
    "    \n",
    "    max_log_likelihood = mlpl\n",
    "    \n",
    "    return max_log_likelihood, num_bjets_chosen\n"
   ]
  },
  {
   "cell_type": "code",
   "execution_count": 49,
   "id": "c2138b1d-f762-4e85-b702-120813f54491",
   "metadata": {},
   "outputs": [
    {
     "ename": "ValueError",
     "evalue": "no field of name HadronConeExclTruthLabelID",
     "output_type": "error",
     "traceback": [
      "\u001b[0;31m---------------------------------------------------------------------------\u001b[0m",
      "\u001b[0;31mValueError\u001b[0m                                Traceback (most recent call last)",
      "File \u001b[0;32m<timed eval>:1\u001b[0m\n",
      "Cell \u001b[0;32mIn[48], line 36\u001b[0m, in \u001b[0;36mget_max_log_likelihood_an_hh4b\u001b[0;34m(event_id, jets, comb_num, num_highest_pt)\u001b[0m\n\u001b[1;32m     32\u001b[0m     sigma \u001b[38;5;241m=\u001b[39m np\u001b[38;5;241m.\u001b[39mexp(\u001b[38;5;241m-\u001b[39m\u001b[38;5;241m0.5\u001b[39m\u001b[38;5;241m*\u001b[39mjet[\u001b[38;5;124m\"\u001b[39m\u001b[38;5;124mdipz20230223_negLogSigma2\u001b[39m\u001b[38;5;124m\"\u001b[39m]) \u001b[38;5;241m*\u001b[39m \u001b[38;5;241m50\u001b[39m\n\u001b[1;32m     34\u001b[0m     third_term \u001b[38;5;241m-\u001b[39m\u001b[38;5;241m=\u001b[39m ((num \u001b[38;5;241m/\u001b[39m denom) \u001b[38;5;241m-\u001b[39m mu)\u001b[38;5;241m*\u001b[39m\u001b[38;5;241m*\u001b[39m\u001b[38;5;241m2\u001b[39m \u001b[38;5;241m/\u001b[39m (\u001b[38;5;241m2\u001b[39m\u001b[38;5;241m*\u001b[39msigma\u001b[38;5;241m*\u001b[39m\u001b[38;5;241m*\u001b[39m\u001b[38;5;241m2\u001b[39m)\n\u001b[0;32m---> 36\u001b[0m     \u001b[38;5;28;01mif\u001b[39;00m \u001b[43mjet\u001b[49m\u001b[43m[\u001b[49m\u001b[38;5;124;43m'\u001b[39;49m\u001b[38;5;124;43mHadronConeExclTruthLabelID\u001b[39;49m\u001b[38;5;124;43m'\u001b[39;49m\u001b[43m]\u001b[49m \u001b[38;5;241m==\u001b[39m \u001b[38;5;241m5\u001b[39m:\n\u001b[1;32m     37\u001b[0m        num_bjets \u001b[38;5;241m+\u001b[39m\u001b[38;5;241m=\u001b[39m \u001b[38;5;241m1\u001b[39m\n\u001b[1;32m     39\u001b[0m \u001b[38;5;28;01mif\u001b[39;00m \u001b[38;5;241m-\u001b[39m\u001b[38;5;241m4\u001b[39m \u001b[38;5;241m*\u001b[39m np\u001b[38;5;241m.\u001b[39mlog(np\u001b[38;5;241m.\u001b[39msqrt(\u001b[38;5;241m2\u001b[39m\u001b[38;5;241m*\u001b[39mnp\u001b[38;5;241m.\u001b[39mpi)) \u001b[38;5;241m+\u001b[39m second_term \u001b[38;5;241m+\u001b[39m third_term \u001b[38;5;241m>\u001b[39m mlpl:\n",
      "\u001b[0;31mValueError\u001b[0m: no field of name HadronConeExclTruthLabelID"
     ]
    }
   ],
   "source": [
    "%%time \n",
    "get_max_log_likelihood_an_hh4b(fom_events[11],jets,4)"
   ]
  },
  {
   "cell_type": "code",
   "execution_count": 50,
   "id": "98b95d0b-9b1f-454a-9930-2330d8be4ebe",
   "metadata": {},
   "outputs": [
    {
     "name": "stdout",
     "output_type": "stream",
     "text": [
      "CPU times: user 3.97 ms, sys: 3.99 ms, total: 7.96 ms\n",
      "Wall time: 7.97 ms\n"
     ]
    },
    {
     "data": {
      "text/plain": [
       "-10.85633698718557"
      ]
     },
     "execution_count": 50,
     "metadata": {},
     "output_type": "execute_result"
    }
   ],
   "source": [
    "%%time \n",
    "get_max_log_likelihood_an(fom_events[11],jets,4)"
   ]
  },
  {
   "cell_type": "code",
   "execution_count": 26,
   "id": "c6f18015-aaeb-4e68-b18d-080e4e371cf0",
   "metadata": {},
   "outputs": [],
   "source": [
    "def get_leading_pt_dist(string, max_num=30000):\n",
    "    data = File(string, 'r')\n",
    "    jets = data['jets']\n",
    "    uniques = np.unique(jets[\"eventNumber\"])\n",
    "        \n",
    "    counter = 0\n",
    "    leading_pT = []\n",
    "    \n",
    "    for i in uniques:\n",
    "        pTs = []\n",
    "        event_jets = jets[jets[\"eventNumber\"] == i]\n",
    "        for jet in event_jets:\n",
    "            pTs.append(jet[\"pt\"])\n",
    "        leading_pT.append(max(pTs))\n",
    "        counter += 1\n",
    "        if counter == max_num:\n",
    "            break \n",
    "    return leading_pT"
   ]
  },
  {
   "cell_type": "code",
   "execution_count": null,
   "id": "765d14b4-3fe5-4b07-9580-4cfc0597db6a",
   "metadata": {},
   "outputs": [],
   "source": []
  }
 ],
 "metadata": {
  "kernelspec": {
   "display_name": "Python 3 (ipykernel)",
   "language": "python",
   "name": "python3"
  },
  "language_info": {
   "codemirror_mode": {
    "name": "ipython",
    "version": 3
   },
   "file_extension": ".py",
   "mimetype": "text/x-python",
   "name": "python",
   "nbconvert_exporter": "python",
   "pygments_lexer": "ipython3",
   "version": "3.11.3"
  }
 },
 "nbformat": 4,
 "nbformat_minor": 5
}
