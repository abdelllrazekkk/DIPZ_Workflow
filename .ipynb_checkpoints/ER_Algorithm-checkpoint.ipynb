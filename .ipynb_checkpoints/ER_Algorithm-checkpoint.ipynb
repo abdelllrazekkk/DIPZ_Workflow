{
 "cells": [
  {
   "cell_type": "markdown",
   "id": "791eed2b",
   "metadata": {},
   "source": [
    "# Implementation of the ER (Event Rejection) algorithm for four-jet signatures"
   ]
  },
  {
   "cell_type": "code",
   "execution_count": 1,
   "id": "aa8beec3",
   "metadata": {},
   "outputs": [],
   "source": [
    "from turtle import title\n",
    "from h5py import File\n",
    "import matplotlib as mpl\n",
    "import matplotlib.pyplot as plt\n",
    "import numpy as np\n",
    "import math"
   ]
  },
  {
   "cell_type": "code",
   "execution_count": 3,
   "id": "64ca5980",
   "metadata": {},
   "outputs": [
    {
     "name": "stdout",
     "output_type": "stream",
     "text": [
      "List of available datasets: ['jets', 'super_tracks', 'super_tracks_associated', 'super_tracks_fixed_cone']\n"
     ]
    }
   ],
   "source": [
    "#Opening the HDF5 File\n",
    "input_file = \"../user.maboelel.32438279._000005.output.h5\"\n",
    "#input_file = \"../forked_TDD/run/EBdata_Output_Dump/output.h5\"\n",
    "data = File(input_file, 'r')\n",
    "print(\"List of available datasets: \" + str(list(data.keys())))"
   ]
  },
  {
   "cell_type": "code",
   "execution_count": 4,
   "id": "03c63ded",
   "metadata": {},
   "outputs": [
    {
     "name": "stdout",
     "output_type": "stream",
     "text": [
      "The attributes of each element of the dataset (jets): dict_keys(['pt', 'HadronConeExclTruthLabelPt', 'n_tracks_nn', 'eta', 'fastDips_pb', 'fastDips_pc', 'fastDips_pu', 'dipz_z', 'dipz_negLogSigma2', 'HadronConeExclTruthLabelID', 'HadronConeExclExtendedTruthLabelID', 'jetPtRank', 'n_super_tracks', 'n_super_tracks_associated', 'n_super_tracks_fixed_cone', 'mcEventWeight', 'eventNumber', 'averageInteractionsPerCrossing', 'actualInteractionsPerCrossing', 'nPrimaryVertices', 'primaryVertexDetectorZ', 'primaryVertexDetectorZUncertainty'])\n",
      "The shape of the dataset is: (165789,)\n"
     ]
    }
   ],
   "source": [
    "#Accessing the 'Jets' Dataset\n",
    "jets = data['jets']\n",
    "print(\"The attributes of each element of the dataset (jets): \" + str(jets.dtype.fields.keys()))\n",
    "print(\"The shape of the dataset is: \" + str(jets.shape))"
   ]
  },
  {
   "cell_type": "code",
   "execution_count": 5,
   "id": "be3aa850-bb71-4f57-8866-589cabc3abea",
   "metadata": {},
   "outputs": [
    {
     "name": "stdout",
     "output_type": "stream",
     "text": [
      "The number of events in our sample is: 39716\n",
      "The events_ID array looks like: [3301001 3301002 3301003 ... 4872998 4872999 4873000]\n"
     ]
    }
   ],
   "source": [
    "#Getting the events in our sample\n",
    "uniques = np.unique(jets[\"eventNumber\"])\n",
    "print(\"The number of events in our sample is: \" + str(len(uniques)))\n",
    "print(\"The events_ID array looks like: \" + str(uniques))"
   ]
  },
  {
   "cell_type": "code",
   "execution_count": 6,
   "id": "0cbd1e0a-caa8-48dc-a037-8542106b6654",
   "metadata": {},
   "outputs": [
    {
     "data": {
      "image/png": "[encoded data removed]",
      "text/plain": [
       "<Figure size 640x480 with 1 Axes>"
      ]
     },
     "metadata": {},
     "output_type": "display_data"
    }
   ],
   "source": [
    "# Visualizing the jets in one event\n",
    "event_id = uniques[3]\n",
    "event_jets = jets[jets[\"eventNumber\"] == event_id]\n",
    "num_jets = len(event_jets)\n",
    "\n",
    "import matplotlib.pyplot as plt\n",
    "from scipy.stats import norm\n",
    "import random\n",
    "#Generating random colors for  the plot\n",
    "color=[\"#\"+''.join([random.choice('0123456789ABCDEF') for i in range(6)])\n",
    "           for j in range(num_jets)]\n",
    "ic = 0      #color counter\n",
    "x = np.arange(-4*50, 4*50, 0.1)\n",
    "\n",
    "for i in range(num_jets):\n",
    "    #plt.plot(x, norm.pdf(x, event_jets[i][\"dipz20230223_z\"], np.exp(-0.5*event_jets[i][\"dipz20230223_negLogSigma2\"])), color=color[ic], linewidth=2, label='Jet '+str(ic))\n",
    "    plt.plot(x, norm.pdf(x, event_jets[i][\"dipz_z\"]*50, np.exp(-0.5*event_jets[i][\"dipz_negLogSigma2\"])), color=color[ic], linewidth=2, label='Jet '+str(ic))\n",
    "    ic = ic + 1    \n",
    "plt.xlabel(\"z (mm)\", loc='right')\n",
    "plt.title('The regressed z-position of some jets')\n",
    "plt.xlim([-4*50, 4*50])\n",
    "plt.legend()\n",
    "plt.show()\n",
    "#plt.cla()"
   ]
  },
  {
   "cell_type": "code",
   "execution_count": 7,
   "id": "d624051b-e26c-4ef2-8e2b-3dc6a331918f",
   "metadata": {},
   "outputs": [
    {
     "name": "stdout",
     "output_type": "stream",
     "text": [
      "CPU times: user 17min 51s, sys: 9.34 s, total: 18min 1s\n",
      "Wall time: 18min 1s\n"
     ]
    }
   ],
   "source": [
    "%%time \n",
    "#Filtering the four-or-more jet events\n",
    "fom_events = []\n",
    "\n",
    "for id in uniques:\n",
    "    if len(jets[jets[\"eventNumber\"] == id]) >= 4:\n",
    "        fom_events.append(id)"
   ]
  },
  {
   "cell_type": "code",
   "execution_count": 8,
   "id": "e6661d5f-9aac-4ac4-bf04-e5a1301988cb",
   "metadata": {},
   "outputs": [
    {
     "name": "stdout",
     "output_type": "stream",
     "text": [
      "[(75482.71 , nan, 10., -2.277 , 0.0509 , 0.3672 , 0.582 , 0.3655, 6.688, 0, 0, 0, 10, 10, 13, 0.0006266, 3301017, 18.5, 18.5, 6, 17.08, 0.01701)\n",
      " (59423.76 , nan,  6.,  1.2705, 0.06073, 0.4246 , 0.5146, 0.3643, 6.66 , 0, 0, 1,  6,  6,  7, 0.0006266, 3301017, 18.5, 18.5, 6, 17.08, 0.01701)\n",
      " (32856.91 , nan,  9.,  0.962 , 0.07654, 0.4683 , 0.455 , 0.3538, 6.55 , 0, 0, 2,  9,  9, 11, 0.0006266, 3301017, 18.5, 18.5, 6, 17.08, 0.01701)\n",
      " (22955.988, nan,  7.,  1.434 , 0.0989 , 0.3376 , 0.5635, 0.3633, 6.465, 0, 0, 3,  7,  7,  7, 0.0006266, 3301017, 18.5, 18.5, 6, 17.08, 0.01701)\n",
      " (20311.902, nan,  1., -1.08  , 0.03214, 0.10547, 0.8623, 0.3335, 1.346, 0, 0, 4,  1,  1,  2, 0.0006266, 3301017, 18.5, 18.5, 6, 17.08, 0.01701)]\n"
     ]
    }
   ],
   "source": [
    "event_jets = jets[jets[\"eventNumber\"] == fom_events[6]]\n",
    "print(event_jets)"
   ]
  },
  {
   "cell_type": "code",
   "execution_count": 9,
   "id": "6f4cbbb3-891e-4931-84ec-dfe10f69cb6b",
   "metadata": {},
   "outputs": [
    {
     "name": "stdout",
     "output_type": "stream",
     "text": [
      "0.3655\n"
     ]
    }
   ],
   "source": [
    "import itertools as it\n",
    "\n",
    "event_jets = jets[jets[\"eventNumber\"] == fom_events[6]]\n",
    "\n",
    "list = ['a', 'b', 'c', 'd', 'e']\n",
    "\n",
    "combinations = []\n",
    "\n",
    "for combination in it.combinations(event_jets, 4):\n",
    "    combinations.append(combination)\n",
    "    \n",
    "for comb in combinations:\n",
    "    for jet in comb:\n",
    "        print(jet[\"dipz_z\"])\n",
    "        break\n",
    "    break"
   ]
  },
  {
   "cell_type": "code",
   "execution_count": 10,
   "id": "d211ad82-d881-45c5-af4a-7c4537e6c0ac",
   "metadata": {},
   "outputs": [],
   "source": [
    "# A function that takes in the event number and calculates the maximum over 4-jet combinations of log of the product of the \n",
    "# likelihood functions of all the jets in the event\n",
    "import itertools as it\n",
    "\n",
    "def get_max_log_likelihood(event_id):\n",
    "    event_jets = jets[jets[\"eventNumber\"] == event_id]\n",
    "    #num_jets = len(event_jets)\n",
    "    z = np.arange(-5*50, 5*50, 0.001)\n",
    "\n",
    "    combinations = []\n",
    "    mltl_array = []\n",
    "\n",
    "    for combination in it.combinations(event_jets, 4):\n",
    "        combinations.append(combination)\n",
    "\n",
    "    for comb in combinations:\n",
    "        log_total_likelihood = num_jets * np.log(np.sqrt(2*np.pi))\n",
    "            \n",
    "        for jet in comb:\n",
    "            mu = jet[\"dipz_z\"] * 50\n",
    "            sigma = jet[\"dipz_negLogSigma2\"]\n",
    "            #likelihood = (2*np.pi)**(-1/2) * (sigma)**(-1) * np.exp( -1 * (z - mu)**2 * (2 * sigma^2)**(-1) )\n",
    "            log_total_likelihood -= ( np.log(sigma) + (z - mu)**2 * (2 * sigma**(2))**(-1) )\n",
    "    \n",
    "        mltl_array.append(max(log_total_likelihood))\n",
    "            \n",
    "    \n",
    "    max_log_likelihood = max(mltl_array)\n",
    "        \n",
    "    return max_log_likelihood"
   ]
  },
  {
   "cell_type": "code",
   "execution_count": 11,
   "id": "e78b09d8-0f81-4135-9663-b6c3ee39000c",
   "metadata": {},
   "outputs": [
    {
     "name": "stdout",
     "output_type": "stream",
     "text": [
      "22876\n",
      "165789\n",
      "CPU times: user 160 ms, sys: 76 µs, total: 160 ms\n",
      "Wall time: 211 ms\n"
     ]
    },
    {
     "data": {
      "text/plain": [
       "-3.3417438414497287"
      ]
     },
     "execution_count": 11,
     "metadata": {},
     "output_type": "execute_result"
    }
   ],
   "source": [
    "%%time\n",
    "\n",
    "print(len(fom_events))\n",
    "print(len(jets))\n",
    "get_max_log_likelihood(fom_events[8])"
   ]
  },
  {
   "cell_type": "code",
   "execution_count": null,
   "id": "1efd0fa1-8eff-4283-907b-b5059e3fdb97",
   "metadata": {},
   "outputs": [
    {
     "name": "stderr",
     "output_type": "stream",
     "text": [
      "/tmp/ipykernel_1863562/2977231929.py:23: RuntimeWarning: invalid value encountered in log\n",
      "  log_total_likelihood -= ( np.log(sigma) + (z - mu)**2 * (2 * sigma**(2))**(-1) )\n"
     ]
    }
   ],
   "source": [
    "%%time \n",
    "\n",
    "max_log_likelihood_list = []\n",
    "for id in fom_events:\n",
    "    max_log_likelihood_list.append(get_max_log_likelihood(id))"
   ]
  },
  {
   "cell_type": "code",
   "execution_count": null,
   "id": "3f51a2b0-7a79-4ade-b453-a1911a9893c4",
   "metadata": {},
   "outputs": [],
   "source": [
    "def get_max_log_likelihood_dist(name):\n",
    "    data = File(name, 'r')\n",
    "    jets = data['jets']\n",
    "    uniques = np.unique(jets[\"eventNumber\"])\n",
    "    \n",
    "    fom_events = []\n",
    "    for id in uniques:\n",
    "        if len(jets[jets[\"eventNumber\"] == id]) >= 4:\n",
    "            fom_events.append(id)\n",
    "            \n",
    "    max_log_likelihood_list = []\n",
    "\n",
    "    for id in fom_events:\n",
    "        max_log_likelihood_list.append(get_max_log_likelihood(id))\n",
    "    return max_log_likelihood_list"
   ]
  },
  {
   "cell_type": "code",
   "execution_count": null,
   "id": "d4a316a6-1765-4cd1-aa83-013b974da736",
   "metadata": {},
   "outputs": [],
   "source": [
    "max_log_likelihood_list = get_max_log_likelihood_dist(\"../user.maboelel.32438279._000005.output.h5\")"
   ]
  },
  {
   "cell_type": "code",
   "execution_count": null,
   "id": "d7a976e5-2fb1-4b34-baf6-0946ee251c9a",
   "metadata": {},
   "outputs": [],
   "source": [
    "plt.hist(max_log_likelihood_list)\n",
    "plt.xlabel(\"maximum Log L\", loc='right')\n",
    "plt.title('Distribution of the maximum Log of the Likelihood function Per Event')\n",
    "plt.legend()\n",
    "plt.show()"
   ]
  },
  {
   "cell_type": "code",
   "execution_count": null,
   "id": "94e7b36d-c623-499b-8170-5150eb141ded",
   "metadata": {},
   "outputs": [],
   "source": []
  }
 ],
 "metadata": {
  "kernelspec": {
   "display_name": "Python 3 (ipykernel)",
   "language": "python",
   "name": "python3"
  },
  "language_info": {
   "codemirror_mode": {
    "name": "ipython",
    "version": 3
   },
   "file_extension": ".py",
   "mimetype": "text/x-python",
   "name": "python",
   "nbconvert_exporter": "python",
   "pygments_lexer": "ipython3",
   "version": "3.11.3"
  }
 },
 "nbformat": 4,
 "nbformat_minor": 5
}
