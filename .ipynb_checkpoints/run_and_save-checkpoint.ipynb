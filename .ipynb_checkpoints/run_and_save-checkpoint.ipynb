{
 "cells": [
  {
   "cell_type": "markdown",
   "id": "326b084a-d32a-4a5e-a79f-1451fbe4615f",
   "metadata": {},
   "source": [
    "# Getting discriminant variable (MLPL) distributions and jet multiplicities"
   ]
  },
  {
   "cell_type": "code",
   "execution_count": 1,
   "id": "b353d33a-6180-49ab-bf19-a5f8dccd3b78",
   "metadata": {},
   "outputs": [],
   "source": [
    "from h5py import File\n",
    "import matplotlib.pyplot as plt\n",
    "import numpy as np\n",
    "import math\n",
    "from scipy.stats import norm\n",
    "import random\n",
    "import itertools as it\n",
    "import time\n",
    "import joblib\n",
    "from plot import plot_distribution\n",
    "from plot import get_jetmultiplicities\n",
    "from untitled import get_max_log_likelihood_an\n",
    "from untitled import get_max_log_likelihood_dist\n",
    "from untitled import get_max_log_likelihood_dist_hh4b"
   ]
  },
  {
   "cell_type": "code",
   "execution_count": 2,
   "id": "f714e896-5a69-4f2d-a8ec-5426ad383659",
   "metadata": {},
   "outputs": [
    {
     "name": "stdout",
     "output_type": "stream",
     "text": [
      "The number of jets in the sample is: 143465\n",
      "The number of jets in the sample with pT < 20 GeV is: 0\n",
      "The number of jets in the sample with eta > 2.5 GeV is: 0\n",
      "The number of events in our sample is: 40832\n",
      "The number of four or more jet events in the sample is: 17613\n",
      "The number of four or more jet events in the sample is less than the provided number, therefore all the sample was run over.\n",
      "The time of execution of the (get_max_log_likelihood_dist) function is : 53.339619465668996 min\n"
     ]
    },
    {
     "data": {
      "text/plain": [
       "['EB_multiplicities.sav']"
      ]
     },
     "execution_count": 2,
     "metadata": {},
     "output_type": "execute_result"
    }
   ],
   "source": [
    "EB_dist, EB_multiplicities = get_max_log_likelihood_dist(\"../EBdata.h5\")\n",
    "joblib.dump(EB_dist, 'EB_dist.sav')\n",
    "joblib.dump(EB_multiplicities, 'EB_multiplicities.sav')"
   ]
  },
  {
   "cell_type": "code",
   "execution_count": 7,
   "id": "66dc794d-776e-45ff-bb08-597fe30b583f",
   "metadata": {},
   "outputs": [
    {
     "name": "stdout",
     "output_type": "stream",
     "text": [
      "The number of jets in the sample is: 324069\n",
      "The number of jets in the sample with pT < 20 GeV is: 0\n",
      "The number of jets in the sample with eta > 2.5 GeV is: 0\n",
      "The number of events in our sample is: 49989\n",
      "The number of four or more b-jet events in the sample is: 19804\n",
      "The number of four or more b-jet events in the sample is less than the provided number, therefore all the sample was run over.\n",
      "The time of execution of the (get_max_log_likelihood_dist) function is : 150.97916799386343 min\n"
     ]
    },
    {
     "data": {
      "text/plain": [
       "['hh4b_multiplicities.sav']"
      ]
     },
     "execution_count": 7,
     "metadata": {},
     "output_type": "execute_result"
    }
   ],
   "source": [
    "hh4b_dist, hh4b_multiplicities= get_max_log_likelihood_dist_hh4b(\"../hh4b.h5\")\n",
    "joblib.dump(hh4b_dist, 'hh4b_dist_nofake.sav')\n",
    "joblib.dump(hh4b_multiplicities, 'hh4b_multiplicities.sav')"
   ]
  },
  {
   "cell_type": "code",
   "execution_count": 8,
   "id": "99256fe6-352b-4321-a55c-5c5642a8bf0f",
   "metadata": {},
   "outputs": [
    {
     "name": "stdout",
     "output_type": "stream",
     "text": [
      "The number of jets in the sample is: 116136\n",
      "The number of jets in the sample with pT < 20 GeV is: 0\n",
      "The number of jets in the sample with eta > 2.5 GeV is: 0\n",
      "The number of events in our sample is: 39883\n",
      "The number of four or more jet events in the sample is: 11480\n",
      "The number of four or more jet events in the sample is less than the provided number, therefore all the sample was run over.\n",
      "The time of execution of the (get_max_log_likelihood_dist) function is : 40.380354062716165 min\n"
     ]
    },
    {
     "data": {
      "text/plain": [
       "['jz0_multiplicities.sav']"
      ]
     },
     "execution_count": 8,
     "metadata": {},
     "output_type": "execute_result"
    }
   ],
   "source": [
    "jz0_dist, jz0_multiplicities = get_max_log_likelihood_dist(\"../jz0.h5\")\n",
    "joblib.dump(jz0_dist, 'jz0_dist.sav')\n",
    "joblib.dump(jz0_multiplicities, 'jz0_multiplicities.sav')"
   ]
  },
  {
   "cell_type": "code",
   "execution_count": 2,
   "id": "67b5a92a-f148-4d35-8b26-dbdb517b7661",
   "metadata": {},
   "outputs": [
    {
     "name": "stdout",
     "output_type": "stream",
     "text": [
      "The number of jets in the sample is: 168465\n",
      "The number of jets in the sample with pT < 20 GeV is: 0\n",
      "The number of jets in the sample with eta > 2.5 GeV is: 0\n",
      "The number of events in our sample is: 46842\n",
      "The number of four or more jet events in the sample is: 19947\n",
      "The number of four or more jet events in the sample is less than the provided number, therefore all the sample was run over.\n",
      "The time of execution of the (get_max_log_likelihood_dist) function is : 72.82532188495 min\n"
     ]
    },
    {
     "data": {
      "text/plain": [
       "['jz1_multiplicities.sav']"
      ]
     },
     "execution_count": 2,
     "metadata": {},
     "output_type": "execute_result"
    }
   ],
   "source": [
    "jz1_dist, jz1_multiplicities = get_max_log_likelihood_dist(\"../jz1.h5\")\n",
    "joblib.dump(jz1_dist, 'jz1_dist.sav')\n",
    "joblib.dump(jz1_multiplicities, 'jz1_multiplicities.sav')"
   ]
  },
  {
   "cell_type": "code",
   "execution_count": null,
   "id": "05559cef-190b-4427-9fc6-56c27abf7b96",
   "metadata": {},
   "outputs": [
    {
     "name": "stdout",
     "output_type": "stream",
     "text": [
      "The number of jets in the sample is: 229572\n",
      "The number of jets in the sample with pT < 20 GeV is: 0\n",
      "The number of jets in the sample with eta > 2.5 GeV is: 0\n",
      "The number of events in our sample is: 49717\n"
     ]
    }
   ],
   "source": [
    "jz2_dist, jz2_multiplicities = get_max_log_likelihood_dist(\"../jz2.h5\")\n",
    "joblib.dump(jz2_dist, 'jz2_dist.sav')\n",
    "joblib.dump(jz2_multiplicities, 'jz2_multiplicities.sav')"
   ]
  },
  {
   "cell_type": "code",
   "execution_count": null,
   "id": "6428bda6-4323-43b5-a817-7ed1ac8b8385",
   "metadata": {},
   "outputs": [],
   "source": [
    "jz3_dist, jz3_multiplicities = get_max_log_likelihood_dist(\"../jz3.h5\")\n",
    "joblib.dump(jz3_dist, 'jz3_dist.sav')\n",
    "joblib.dump(jz3_multiplicities, 'jz3_multiplicities.sav')"
   ]
  },
  {
   "cell_type": "code",
   "execution_count": null,
   "id": "83bfc6fb-091f-400e-bd15-4dabbccd7674",
   "metadata": {},
   "outputs": [],
   "source": [
    "jz4_dist, jz4_multiplicities = get_max_log_likelihood_dist(\"../jz4.h5\")\n",
    "joblib.dump(jz4_dist, 'jz4_dist.sav')\n",
    "joblib.dump(jz4_multiplicities, 'jz4_multiplicities.sav')"
   ]
  },
  {
   "cell_type": "code",
   "execution_count": null,
   "id": "1947eb4a-38a0-45de-a6ea-304bfaf43c86",
   "metadata": {},
   "outputs": [],
   "source": [
    "jz5_dist, jz5_multiplicities = get_max_log_likelihood_dist(\"../jz5.h5\")\n",
    "joblib.dump(jz5_dist, 'jz5_dist.sav')\n",
    "joblib.dump(jz5_multiplicities, 'jz5_multiplicities.sav')"
   ]
  },
  {
   "cell_type": "code",
   "execution_count": null,
   "id": "8177f73f-565f-48fc-9ae5-23a4b4b9de55",
   "metadata": {},
   "outputs": [],
   "source": []
  }
 ],
 "metadata": {
  "kernelspec": {
   "display_name": "Python 3 (ipykernel)",
   "language": "python",
   "name": "python3"
  },
  "language_info": {
   "codemirror_mode": {
    "name": "ipython",
    "version": 3
   },
   "file_extension": ".py",
   "mimetype": "text/x-python",
   "name": "python",
   "nbconvert_exporter": "python",
   "pygments_lexer": "ipython3",
   "version": "3.11.3"
  }
 },
 "nbformat": 4,
 "nbformat_minor": 5
}
