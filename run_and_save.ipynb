{
 "cells": [
  {
   "cell_type": "markdown",
   "id": "326b084a-d32a-4a5e-a79f-1451fbe4615f",
   "metadata": {
    "editable": true,
    "slideshow": {
     "slide_type": ""
    },
    "tags": []
   },
   "source": [
    "# Getting discriminant variable (MLPL) distributions and jet multiplicities"
   ]
  },
  {
   "cell_type": "code",
   "execution_count": 1,
   "id": "b353d33a-6180-49ab-bf19-a5f8dccd3b78",
   "metadata": {},
   "outputs": [],
   "source": [
    "\"\"\"Importing all needed packages\"\"\"\n",
    "from h5py import File\n",
    "import matplotlib.pyplot as plt\n",
    "import numpy as np\n",
    "import math\n",
    "from scipy.stats import norm\n",
    "import random\n",
    "import itertools as it\n",
    "import time\n",
    "import joblib\n",
    "from plot import plot_distribution\n",
    "from plot import get_jetmultiplicities\n",
    "from a import get_max_log_likelihood_an\n",
    "from a import get_max_log_likelihood_an_hh4b\n",
    "from a import get_max_log_likelihood_dist\n",
    "from a import get_max_log_likelihood_dist_hh4b"
   ]
  },
  {
   "cell_type": "code",
   "execution_count": null,
   "id": "313ad82b-8041-4754-a4f0-3e19ebbffd1c",
   "metadata": {},
   "outputs": [],
   "source": [
    "\"\"\"Setting up needed parameters\"\"\"\n",
    "comb_num = 4\n",
    "max_num = 999999999999999\n",
    "num_highest_pt = 555555"
   ]
  },
  {
   "cell_type": "code",
   "execution_count": null,
   "id": "f714e896-5a69-4f2d-a8ec-5426ad383659",
   "metadata": {},
   "outputs": [],
   "source": [
    "EB_dist, EB_multiplicities = get_max_log_likelihood_dist(\"../../EBdata.h5\", comb_num, max_num, num_highest_pt)\n",
    "joblib.dump(EB_dist, 'EB_dist.sav')\n",
    "joblib.dump(EB_multiplicities, 'EB_multiplicities.sav')\n",
    "hh4b_dist, hh4b_multiplicities, num_bjets_chosen_list= get_max_log_likelihood_dist_hh4b(\"../../hh4b.h5\", max_num)\n",
    "joblib.dump(hh4b_dist, 'hh4b_dist_nofake.sav')\n",
    "joblib.dump(hh4b_multiplicities, 'hh4b_multiplicities.sav')\n",
    "joblib.dump(num_bjets_chosen_list, 'num_bjets_chosen_list.sav')\n",
    "jz0_dist, jz0_multiplicities = get_max_log_likelihood_dist(\"../../jz0.h5\", comb_num, max_num, num_highest_pt)\n",
    "joblib.dump(jz0_dist, 'jz0_dist.sav')\n",
    "joblib.dump(jz0_multiplicities, 'jz0_multiplicities.sav')\n",
    "jz1_dist, jz1_multiplicities = get_max_log_likelihood_dist(\"../../jz1.h5\", comb_num, max_num, num_highest_pt)\n",
    "joblib.dump(jz1_dist, 'jz1_dist.sav')\n",
    "joblib.dump(jz1_multiplicities, 'jz1_multiplicities.sav')\n",
    "jz2_dist, jz2_multiplicities = get_max_log_likelihood_dist(\"../../jz2.h5\", comb_num, max_num, num_highest_pt)\n",
    "joblib.dump(jz2_dist, 'jz2_dist.sav')\n",
    "joblib.dump(jz2_multiplicities, 'jz2_multiplicities.sav')\n",
    "jz3_dist, jz3_multiplicities = get_max_log_likelihood_dist(\"../../jz3.h5\", comb_num, max_num, num_highest_pt)\n",
    "joblib.dump(jz3_dist, 'jz3_dist.sav')\n",
    "joblib.dump(jz3_multiplicities, 'jz3_multiplicities.sav')\n",
    "jz4_dist, jz4_multiplicities = get_max_log_likelihood_dist(\"../../jz4.h5\", comb_num, max_num, num_highest_pt)\n",
    "joblib.dump(jz4_dist, 'jz4_dist.sav')\n",
    "joblib.dump(jz4_multiplicities, 'jz4_multiplicities.sav')\n",
    "jz5_dist, jz5_multiplicities = get_max_log_likelihood_dist(\"../../jz5.h5\", comb_num, max_num, num_highest_pt)\n",
    "joblib.dump(jz5_dist, 'jz5_dist.sav')\n",
    "joblib.dump(jz5_multiplicities, 'jz5_multiplicities.sav')"
   ]
  }
 ],
 "metadata": {
  "kernelspec": {
   "display_name": "Python 3 (ipykernel)",
   "language": "python",
   "name": "python3"
  },
  "language_info": {
   "codemirror_mode": {
    "name": "ipython",
    "version": 3
   },
   "file_extension": ".py",
   "mimetype": "text/x-python",
   "name": "python",
   "nbconvert_exporter": "python",
   "pygments_lexer": "ipython3",
   "version": "3.11.3"
  }
 },
 "nbformat": 4,
 "nbformat_minor": 5
}
