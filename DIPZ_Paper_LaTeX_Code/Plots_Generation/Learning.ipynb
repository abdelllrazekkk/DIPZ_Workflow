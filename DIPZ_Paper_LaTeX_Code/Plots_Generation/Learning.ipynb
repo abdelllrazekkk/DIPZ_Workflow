{
 "cells": [
  {
   "cell_type": "code",
   "execution_count": 1,
   "id": "27c7d562-aada-47a0-971a-4664ad910ee8",
   "metadata": {},
   "outputs": [],
   "source": [
    "from h5py import File\n",
    "import matplotlib as mpl\n",
    "import matplotlib.pyplot as plt\n",
    "import numpy as np"
   ]
  },
  {
   "cell_type": "code",
   "execution_count": 2,
   "id": "c781c41e-71d4-46c5-b77e-31baa5b8585f",
   "metadata": {},
   "outputs": [],
   "source": [
    "#Opening the HDF5 File\n",
    "input_file = \"user.maboelel.32438279._000005.output.h5\"\n",
    "data = File(input_file, 'r')"
   ]
  },
  {
   "cell_type": "code",
   "execution_count": 7,
   "id": "ceb31b34-bd5e-4d1b-86d4-e6d6cf39bd93",
   "metadata": {},
   "outputs": [
    {
     "name": "stdout",
     "output_type": "stream",
     "text": [
      "List of available datasets: ['jets', 'super_tracks', 'super_tracks_associated', 'super_tracks_fixed_cone']\n"
     ]
    }
   ],
   "source": [
    "print(\"List of available datasets: \" + str(list(data.keys())))"
   ]
  },
  {
   "cell_type": "code",
   "execution_count": 6,
   "id": "21b61c92-5083-43d6-8c58-9b6067897d7b",
   "metadata": {
    "jupyter": {
     "source_hidden": true
    }
   },
   "outputs": [
    {
     "name": "stdout",
     "output_type": "stream",
     "text": [
      "The shape of the dataset (jets): (165789,)\n",
      "The size of the dataset (jets): 165789\n",
      "The number of dimensions of the dataset (jets): 1\n",
      "The attributes of each element of the dataset (jets): dict_keys(['pt', 'HadronConeExclTruthLabelPt', 'n_tracks_nn', 'eta', 'fastDips_pb', 'fastDips_pc', 'fastDips_pu', 'dipz_z', 'dipz_negLogSigma2', 'HadronConeExclTruthLabelID', 'HadronConeExclExtendedTruthLabelID', 'jetPtRank', 'n_super_tracks', 'n_super_tracks_associated', 'n_super_tracks_fixed_cone', 'mcEventWeight', 'eventNumber', 'averageInteractionsPerCrossing', 'actualInteractionsPerCrossing', 'nPrimaryVertices', 'primaryVertexDetectorZ', 'primaryVertexDetectorZUncertainty'])\n",
      "The total number of bytes required to load the full dataset into RAM of the dataset (jets): 11605230\n"
     ]
    }
   ],
   "source": [
    "#Printing the 'jets' Attributes\n",
    "print(\"The shape of the dataset (jets): \" + str(jets.shape))\n",
    "print(\"The size of the dataset (jets): \" + str(jets.size))\n",
    "print(\"The number of dimensions of the dataset (jets): \" + str(jets.ndim))\n",
    "print(\"The attributes of each element of the dataset (jets): \" + str(jets.dtype.fields.keys()))\n",
    "print(\"The total number of bytes required to load the full dataset into RAM of the dataset (jets): \" + str(jets.nbytes))"
   ]
  },
  {
   "cell_type": "code",
   "execution_count": 3,
   "id": "8cb5cb1a-301d-42bd-81e7-1483119f1f06",
   "metadata": {},
   "outputs": [
    {
     "name": "stdout",
     "output_type": "stream",
     "text": [
      "The attributes of each element of the dataset (jets): dict_keys(['pt', 'HadronConeExclTruthLabelPt', 'n_tracks_nn', 'eta', 'fastDips_pb', 'fastDips_pc', 'fastDips_pu', 'dipz_z', 'dipz_negLogSigma2', 'HadronConeExclTruthLabelID', 'HadronConeExclExtendedTruthLabelID', 'jetPtRank', 'n_super_tracks', 'n_super_tracks_associated', 'n_super_tracks_fixed_cone', 'mcEventWeight', 'eventNumber', 'averageInteractionsPerCrossing', 'actualInteractionsPerCrossing', 'nPrimaryVertices', 'primaryVertexDetectorZ', 'primaryVertexDetectorZUncertainty'])\n",
      "The shape of the dataset is: (165789,)\n"
     ]
    }
   ],
   "source": [
    "#Accessing the 'Jets' Dataset\n",
    "jets = data['jets']\n",
    "jets = np.asarray(jets)\n",
    "print(\"The attributes of each element of the dataset (jets): \" + str(jets.dtype.fields.keys()))\n",
    "print(\"The shape of the dataset is: \" + str(jets.shape))"
   ]
  },
  {
   "cell_type": "code",
   "execution_count": 4,
   "id": "a0fdab4d-a11f-41c3-8e16-be0dd4747271",
   "metadata": {},
   "outputs": [
    {
     "name": "stdout",
     "output_type": "stream",
     "text": [
      "The number of jets in the sample is: 165789\n",
      "The number of jets in the sample with pT < 20 GeV is: 0\n",
      "The number of jets in the sample with eta > 2.5 GeV is: 0\n"
     ]
    }
   ],
   "source": [
    "print(\"The number of jets in the sample is: \" + str(len(jets)))\n",
    "print(\"The number of jets in the sample with pT < 20 GeV is: \" + str(len(jets[jets[\"pt\"] < 20])))\n",
    "print(\"The number of jets in the sample with eta > 2.5 GeV is: \" + str(len(jets[jets[\"eta\"] > 2.5])))"
   ]
  },
  {
   "cell_type": "code",
   "execution_count": 5,
   "id": "9d5fcc65-171a-448a-87ed-ad145015fd1b",
   "metadata": {},
   "outputs": [
    {
     "name": "stdout",
     "output_type": "stream",
     "text": [
      "The number of events in our sample is: 39716\n",
      "The events_ID array looks like: [3301001 3301002 3301003 ... 4872998 4872999 4873000]\n"
     ]
    }
   ],
   "source": [
    "#Getting the events in our sample\n",
    "uniques = np.unique(jets[\"eventNumber\"])\n",
    "print(\"The number of events in our sample is: \" + str(len(uniques)))\n",
    "print(\"The events_ID array looks like: \" + str(uniques))"
   ]
  },
  {
   "cell_type": "code",
   "execution_count": 6,
   "id": "2cb91ced-f085-4f7b-bc88-73db5179de97",
   "metadata": {
    "jupyter": {
     "source_hidden": true
    }
   },
   "outputs": [
    {
     "name": "stdout",
     "output_type": "stream",
     "text": [
      "The shape of the dataset (tracks): (581526, 40)\n",
      "The attributes of each element of the dataset (tracks): dict_keys(['chiSquared', 'numberDoF', 'IP3D_signed_d0', 'IP2D_signed_d0', 'IP3D_signed_z0', 'phi', 'theta', 'qOverP', 'numberOfInnermostPixelLayerHits', 'numberOfNextToInnermostPixelLayerHits', 'numberOfInnermostPixelLayerSharedHits', 'numberOfInnermostPixelLayerSplitHits', 'numberOfPixelHits', 'numberOfPixelHoles', 'numberOfPixelSharedHits', 'numberOfPixelSplitHits', 'numberOfSCTHits', 'numberOfSCTHoles', 'numberOfSCTSharedHits', 'd0', 'z0SinTheta', 'IP3D_signed_d0_significance', 'IP3D_signed_z0_significance', 'pt', 'eta', 'd0Uncertainty', 'z0SinThetaUncertainty', 'z0RelativeToBeamspot', 'z0RelativeToBeamspotUncertainty', 'deta', 'dphi', 'dr', 'ptfrac', 'valid'])\n",
      "The shape of the dataset (fs_tracks): (581526, 40)\n",
      "The attributes of each element of the dataset (fs_tracks): dict_keys(['chiSquared', 'numberDoF', 'IP3D_signed_d0', 'IP2D_signed_d0', 'IP3D_signed_z0', 'phi', 'theta', 'qOverP', 'numberOfInnermostPixelLayerHits', 'numberOfNextToInnermostPixelLayerHits', 'numberOfInnermostPixelLayerSharedHits', 'numberOfInnermostPixelLayerSplitHits', 'numberOfPixelHits', 'numberOfPixelHoles', 'numberOfPixelSharedHits', 'numberOfPixelSplitHits', 'numberOfSCTHits', 'numberOfSCTHoles', 'numberOfSCTSharedHits', 'd0', 'z0SinTheta', 'IP3D_signed_d0_significance', 'IP3D_signed_z0_significance', 'pt', 'eta', 'd0Uncertainty', 'z0SinThetaUncertainty', 'z0RelativeToBeamspot', 'z0RelativeToBeamspotUncertainty', 'deta', 'dphi', 'dr', 'ptfrac', 'valid'])\n",
      "The shape of the dataset (fs_tracks_simple_ip): (581526, 40)\n",
      "The attributes of each element of the dataset (fs_tracks_simple_ip): dict_keys(['chiSquared', 'numberDoF', 'IP3D_signed_d0', 'IP2D_signed_d0', 'IP3D_signed_z0', 'phi', 'theta', 'qOverP', 'numberOfInnermostPixelLayerHits', 'numberOfNextToInnermostPixelLayerHits', 'numberOfInnermostPixelLayerSharedHits', 'numberOfInnermostPixelLayerSplitHits', 'numberOfPixelHits', 'numberOfPixelHoles', 'numberOfPixelSharedHits', 'numberOfPixelSplitHits', 'numberOfSCTHits', 'numberOfSCTHoles', 'numberOfSCTSharedHits', 'd0', 'z0SinTheta', 'IP3D_signed_d0_significance', 'IP3D_signed_z0_significance', 'pt', 'eta', 'd0Uncertainty', 'z0SinThetaUncertainty', 'z0RelativeToBeamspot', 'z0RelativeToBeamspotUncertainty', 'deta', 'dphi', 'dr', 'ptfrac', 'valid'])\n"
     ]
    }
   ],
   "source": [
    "# Same for different Tracks datasets\n",
    "tracks = data['tracks']\n",
    "tracks = np.asarray(tracks)\n",
    "print(\"The shape of the dataset (tracks): \" + str(tracks.shape))\n",
    "print(\"The attributes of each element of the dataset (tracks): \" + str(tracks.dtype.fields.keys()))\n",
    "fs_tracks = data['fs_tracks']\n",
    "fs_tracks = np.asarray(fs_tracks)\n",
    "print(\"The shape of the dataset (fs_tracks): \" + str(fs_tracks.shape))\n",
    "print(\"The attributes of each element of the dataset (fs_tracks): \" + str(fs_tracks.dtype.fields.keys()))\n",
    "fs_tracks_simple_ip = data['fs_tracks_simple_ip']\n",
    "fs_tracks_simple_ip = np.asarray(fs_tracks_simple_ip)\n",
    "print(\"The shape of the dataset (fs_tracks_simple_ip): \" + str(fs_tracks_simple_ip.shape))\n",
    "print(\"The attributes of each element of the dataset (fs_tracks_simple_ip): \" + str(fs_tracks_simple_ip.dtype.fields.keys()))"
   ]
  },
  {
   "cell_type": "code",
   "execution_count": 7,
   "id": "af90c7e2-77f2-47c1-b8c9-5b6bb73ce493",
   "metadata": {},
   "outputs": [
    {
     "name": "stdout",
     "output_type": "stream",
     "text": [
      "The number of tracks of the first jet in the (jets) dataset is: 7\n",
      "The number of fs_tracks of the first jet in the (jets) dataset is: 18\n",
      "The number of fs_tracks_simple_ip of the first jet in the (jets) dataset is: 18\n"
     ]
    }
   ],
   "source": [
    "#Printing the track information for just the first jet in the dataset\n",
    "first = jets[0]     #First index is ZERO\n",
    "print(\"The number of tracks of the first jet in the (jets) dataset is: \" + str(first['n_tracks']))\n",
    "print(\"The number of fs_tracks of the first jet in the (jets) dataset is: \" + str(first['n_fs_tracks']))\n",
    "print(\"The number of fs_tracks_simple_ip of the first jet in the (jets) dataset is: \" + str(first['n_fs_tracks_simple_ip']))"
   ]
  },
  {
   "cell_type": "code",
   "execution_count": 8,
   "id": "f798a5e9-7da2-4a21-b24e-45eb8fd7e0da",
   "metadata": {},
   "outputs": [],
   "source": [
    "i = 0\n",
    "indices = []\n",
    "n_validtracks = []\n",
    "for jet in jets:\n",
    "    if jet['n_fs_tracks_simple_ip'] > 40:\n",
    "        indices.append(i);\n",
    "    n_validtracks.append(tracks[i][tracks[i]['valid']].size)\n",
    "    i += 1;"
   ]
  },
  {
   "cell_type": "code",
   "execution_count": 9,
   "id": "cf32617d-25b4-45d9-a937-b55b140e3fed",
   "metadata": {
    "scrolled": true
   },
   "outputs": [
    {
     "data": {
      "text/plain": [
       "102"
      ]
     },
     "execution_count": 9,
     "metadata": {},
     "output_type": "execute_result"
    }
   ],
   "source": [
    "jets[26061]['n_fs_tracks_simple_ip']"
   ]
  },
  {
   "cell_type": "code",
   "execution_count": 10,
   "id": "b16d112a-9f2e-4e4c-994b-f632cb277c8f",
   "metadata": {},
   "outputs": [
    {
     "data": {
      "text/plain": [
       "27"
      ]
     },
     "execution_count": 10,
     "metadata": {},
     "output_type": "execute_result"
    }
   ],
   "source": [
    "tracks[26061][tracks[26061]['valid']].size"
   ]
  },
  {
   "cell_type": "code",
   "execution_count": 11,
   "id": "7a756e5c-f09f-481e-b057-2b5352c0ee59",
   "metadata": {},
   "outputs": [
    {
     "data": {
      "image/png": "[encoded data removed]",
      "text/plain": [
       "<Figure size 640x480 with 1 Axes>"
      ]
     },
     "metadata": {},
     "output_type": "display_data"
    }
   ],
   "source": [
    "#Making histograms for the number of fs_tracks_simple_ip per jet. \n",
    "plt.hist(jets['n_fs_tracks_simple_ip'], range=[0,120], bins=121)\n",
    "plt.ylabel(\"Number of valid fs_tracks_simple_ip per jet\")\n",
    "plt.yscale(\"log\")\n",
    "#plt.legend(loc='upper right')\n",
    "plt.yticks()\n",
    "#plt.title('Histogram for the Number of tracks Per jet for different types of tracks')\n",
    "plt.show()"
   ]
  },
  {
   "cell_type": "code",
   "execution_count": 12,
   "id": "41252c3c-0861-4a47-83cc-632c33ac5123",
   "metadata": {},
   "outputs": [
    {
     "data": {
      "image/png": "[encoded data removed]",
      "text/plain": [
       "<Figure size 640x480 with 1 Axes>"
      ]
     },
     "metadata": {},
     "output_type": "display_data"
    }
   ],
   "source": [
    "#Making histograms for the number of valid fs_tracks_simple_ip per jet. \n",
    "plt.hist(n_validtracks, range=[0,38], bins=39)\n",
    "plt.xlabel(\"Number of valid tracks per jet\")\n",
    "plt.yscale(\"log\")\n",
    "#plt.legend(loc='upper right')\n",
    "plt.yticks()\n",
    "#plt.title('Histogram for the Number of tracks Per jet for different types of tracks')\n",
    "plt.savefig('5.png')\n",
    "#plt.show()"
   ]
  },
  {
   "cell_type": "code",
   "execution_count": 57,
   "id": "bd650ef1-59db-4f94-b1f5-cd36adfd3483",
   "metadata": {},
   "outputs": [
    {
     "data": {
      "image/png": "[encoded data removed]",
      "text/plain": [
       "<Figure size 640x480 with 1 Axes>"
      ]
     },
     "metadata": {},
     "output_type": "display_data"
    }
   ],
   "source": [
    "#Making histograms for the pT of all the jets in the sample. \n",
    "plt.hist(jets['primaryVertexDetectorZ'], bins=1000)\n",
    "plt.xlabel(\"primaryVertexDetectorZ (mm)\", loc='right')\n",
    "#plt.yscale(\"log\")\n",
    "#plt.legend(loc='upper right')\n",
    "plt.yticks()\n",
    "#plt.title('Histogram for the Number of tracks Per jet for different types of tracks')\n",
    "plt.savefig('8.png')\n",
    "plt.show()"
   ]
  },
  {
   "cell_type": "code",
   "execution_count": null,
   "id": "5f3e82c8-9d00-4add-ba1b-5dad4f3213b0",
   "metadata": {},
   "outputs": [],
   "source": []
  },
  {
   "cell_type": "code",
   "execution_count": null,
   "id": "6cea3a2c-78a5-459e-93a7-990b4104b652",
   "metadata": {},
   "outputs": [],
   "source": []
  }
 ],
 "metadata": {
  "kernelspec": {
   "display_name": "Python 3 (ipykernel)",
   "language": "python",
   "name": "python3"
  },
  "language_info": {
   "codemirror_mode": {
    "name": "ipython",
    "version": 3
   },
   "file_extension": ".py",
   "mimetype": "text/x-python",
   "name": "python",
   "nbconvert_exporter": "python",
   "pygments_lexer": "ipython3",
   "version": "3.11.3"
  }
 },
 "nbformat": 4,
 "nbformat_minor": 5
}
