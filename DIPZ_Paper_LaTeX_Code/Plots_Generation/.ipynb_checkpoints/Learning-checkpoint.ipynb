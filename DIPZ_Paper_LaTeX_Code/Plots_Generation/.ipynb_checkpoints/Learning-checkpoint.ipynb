{
 "cells": [
  {
   "cell_type": "code",
   "execution_count": 38,
   "id": "27c7d562-aada-47a0-971a-4664ad910ee8",
   "metadata": {},
   "outputs": [],
   "source": [
    "from h5py import File\n",
    "import matplotlib as mpl\n",
    "import matplotlib.pyplot as plt\n",
    "import numpy as np"
   ]
  },
  {
   "cell_type": "code",
   "execution_count": 39,
   "id": "c781c41e-71d4-46c5-b77e-31baa5b8585f",
   "metadata": {},
   "outputs": [],
   "source": [
    "#Opening the HDF5 File\n",
    "input_file = \"user.viruelas.27383479._000001.output.h5\"\n",
    "data = File(input_file, 'r')"
   ]
  },
  {
   "cell_type": "code",
   "execution_count": 40,
   "id": "8cb5cb1a-301d-42bd-81e7-1483119f1f06",
   "metadata": {
    "collapsed": true,
    "jupyter": {
     "outputs_hidden": true
    }
   },
   "outputs": [
    {
     "name": "stdout",
     "output_type": "stream",
     "text": [
      "The attributes of each element of the dataset (jets): dict_keys(['pt_btagJes', 'eta_btagJes', 'absEta_btagJes', 'JetFitter_energyFraction', 'JetFitter_mass', 'JetFitter_significance3d', 'JetFitter_deltaphi', 'JetFitter_deltaeta', 'JetFitter_massUncorr', 'JetFitter_dRFlightDir', 'SV1_masssvx', 'SV1_efracsvx', 'SV1_significance3d', 'SV1_dstToMatLay', 'SV1_deltaR', 'SV1_Lxy', 'SV1_L3d', 'JetFitter_deltaR', 'JetFitterSecondaryVertex_displacement3d', 'JetFitterSecondaryVertex_displacement2d', 'JetFitterSecondaryVertex_mass', 'JetFitterSecondaryVertex_energy', 'JetFitterSecondaryVertex_energyFraction', 'JetFitterSecondaryVertex_minimumTrackRelativeEta', 'JetFitterSecondaryVertex_maximumTrackRelativeEta', 'JetFitterSecondaryVertex_averageTrackRelativeEta', 'JetFitterSecondaryVertex_minimumAllJetTrackRelativeEta', 'JetFitterSecondaryVertex_maximumAllJetTrackRelativeEta', 'JetFitterSecondaryVertex_averageAllJetTrackRelativeEta', 'MV2c10_discriminant', 'IP2D_pu', 'IP2D_pc', 'IP2D_pb', 'IP3D_pu', 'IP3D_pc', 'IP3D_pb', 'IP2D_cu', 'IP2D_bu', 'IP2D_bc', 'IP3D_cu', 'IP3D_bu', 'IP3D_bc', 'rnnip_pu', 'rnnip_pc', 'rnnip_pb', 'DL1r_pu', 'DL1r_pc', 'DL1r_pb', 'deltaRToOfflineJet', 'deltaPtToOfflineJet', 'OfflineMatchedDL1r_pb', 'OfflineMatchedDL1r_pc', 'OfflineMatchedDL1r_pu', 'dipsLoose20210517FsTracks_pb', 'dipsLoose20210517FsTracks_pc', 'dipsLoose20210517FsTracks_pu', 'dipsLoose20210517SimpleIp_pb', 'dipsLoose20210517SimpleIp_pc', 'dipsLoose20210517SimpleIp_pu', 'dipsLoose20210729_pb', 'dipsLoose20210729_pc', 'dipsLoose20210729_pu', 'DL1dv00_pb', 'DL1dv00_pc', 'DL1dv00_pu', 'dipsLoose20210729FsTracks_pb', 'dipsLoose20210729FsTracks_pc', 'dipsLoose20210729FsTracks_pu', 'dipsLoose20210729SimpleIp_pb', 'dipsLoose20210729SimpleIp_pc', 'dipsLoose20210729SimpleIp_pu', 'dips20211116_pb', 'dips20211116_pc', 'dips20211116_pu', 'IP2D_isDefaults', 'IP3D_isDefaults', 'JetFitter_isDefaults', 'SV1_isDefaults', 'JetFitterSecondaryVertex_isDefaults', 'rnnip_isDefaults', 'JetFitter_nVTX', 'JetFitter_nSingleTracks', 'JetFitter_nTracksAtVtx', 'JetFitter_N2Tpair', 'SV1_N2Tpair', 'SV1_NGTinSvx', 'JetFitterSecondaryVertex_nTracks', 'IP2D_nTrks', 'IP3D_nTrks', 'HadronConeExclTruthLabelPt', 'Jvt', 'HadronConeExclTruthLabelID', 'HadronConeExclExtendedTruthLabelID', 'jetPtRank', 'OfflineMatchedHadronConeExclTruthLabelID', 'OfflineMatchedHadronConeExclExtendedTruthLabelID', 'n_tracks', 'n_fs_tracks', 'n_fs_tracks_simple_ip', 'pt', 'eta', 'energy', 'mass', 'mcEventWeight', 'eventNumber', 'averageInteractionsPerCrossing', 'actualInteractionsPerCrossing', 'nPrimaryVertices', 'primaryVertexDetectorZ', 'primaryVertexDetectorZUncertainty'])\n",
      "The shape of the dataset is: (581526,)\n"
     ]
    }
   ],
   "source": [
    "#Accessing the 'Jets' Dataset\n",
    "jets = data['jets']\n",
    "jets = np.asarray(jets)\n",
    "print(\"The attributes of each element of the dataset (jets): \" + str(jets.dtype.fields.keys()))\n",
    "print(\"The shape of the dataset is: \" + str(jets.shape))"
   ]
  },
  {
   "cell_type": "code",
   "execution_count": 41,
   "id": "a0fdab4d-a11f-41c3-8e16-be0dd4747271",
   "metadata": {},
   "outputs": [
    {
     "name": "stdout",
     "output_type": "stream",
     "text": [
      "The number of jets in the sample is: 581526\n",
      "The number of jets in the sample with pT < 20 GeV is: 0\n",
      "The number of jets in the sample with eta > 2.5 GeV is: 0\n"
     ]
    }
   ],
   "source": [
    "print(\"The number of jets in the sample is: \" + str(len(jets)))\n",
    "print(\"The number of jets in the sample with pT < 20 GeV is: \" + str(len(jets[jets[\"pt\"] < 20])))\n",
    "print(\"The number of jets in the sample with eta > 2.5 GeV is: \" + str(len(jets[jets[\"eta\"] > 2.5])))"
   ]
  },
  {
   "cell_type": "code",
   "execution_count": 42,
   "id": "9d5fcc65-171a-448a-87ed-ad145015fd1b",
   "metadata": {},
   "outputs": [
    {
     "name": "stdout",
     "output_type": "stream",
     "text": [
      "The number of events in our sample is: 118946\n",
      "The events_ID array looks like: [60000001 60000002 60000003 ... 60151998 60151999 60152000]\n"
     ]
    }
   ],
   "source": [
    "#Getting the events in our sample\n",
    "uniques = np.unique(jets[\"eventNumber\"])\n",
    "print(\"The number of events in our sample is: \" + str(len(uniques)))\n",
    "print(\"The events_ID array looks like: \" + str(uniques))"
   ]
  },
  {
   "cell_type": "code",
   "execution_count": 43,
   "id": "2cb91ced-f085-4f7b-bc88-73db5179de97",
   "metadata": {
    "collapsed": true,
    "jupyter": {
     "outputs_hidden": true,
     "source_hidden": true
    }
   },
   "outputs": [
    {
     "name": "stdout",
     "output_type": "stream",
     "text": [
      "The shape of the dataset (tracks): (581526, 40)\n",
      "The attributes of each element of the dataset (tracks): dict_keys(['chiSquared', 'numberDoF', 'IP3D_signed_d0', 'IP2D_signed_d0', 'IP3D_signed_z0', 'phi', 'theta', 'qOverP', 'numberOfInnermostPixelLayerHits', 'numberOfNextToInnermostPixelLayerHits', 'numberOfInnermostPixelLayerSharedHits', 'numberOfInnermostPixelLayerSplitHits', 'numberOfPixelHits', 'numberOfPixelHoles', 'numberOfPixelSharedHits', 'numberOfPixelSplitHits', 'numberOfSCTHits', 'numberOfSCTHoles', 'numberOfSCTSharedHits', 'd0', 'z0SinTheta', 'IP3D_signed_d0_significance', 'IP3D_signed_z0_significance', 'pt', 'eta', 'd0Uncertainty', 'z0SinThetaUncertainty', 'z0RelativeToBeamspot', 'z0RelativeToBeamspotUncertainty', 'deta', 'dphi', 'dr', 'ptfrac', 'valid'])\n",
      "The shape of the dataset (fs_tracks): (581526, 40)\n",
      "The attributes of each element of the dataset (fs_tracks): dict_keys(['chiSquared', 'numberDoF', 'IP3D_signed_d0', 'IP2D_signed_d0', 'IP3D_signed_z0', 'phi', 'theta', 'qOverP', 'numberOfInnermostPixelLayerHits', 'numberOfNextToInnermostPixelLayerHits', 'numberOfInnermostPixelLayerSharedHits', 'numberOfInnermostPixelLayerSplitHits', 'numberOfPixelHits', 'numberOfPixelHoles', 'numberOfPixelSharedHits', 'numberOfPixelSplitHits', 'numberOfSCTHits', 'numberOfSCTHoles', 'numberOfSCTSharedHits', 'd0', 'z0SinTheta', 'IP3D_signed_d0_significance', 'IP3D_signed_z0_significance', 'pt', 'eta', 'd0Uncertainty', 'z0SinThetaUncertainty', 'z0RelativeToBeamspot', 'z0RelativeToBeamspotUncertainty', 'deta', 'dphi', 'dr', 'ptfrac', 'valid'])\n",
      "The shape of the dataset (fs_tracks_simple_ip): (581526, 40)\n",
      "The attributes of each element of the dataset (fs_tracks_simple_ip): dict_keys(['chiSquared', 'numberDoF', 'IP3D_signed_d0', 'IP2D_signed_d0', 'IP3D_signed_z0', 'phi', 'theta', 'qOverP', 'numberOfInnermostPixelLayerHits', 'numberOfNextToInnermostPixelLayerHits', 'numberOfInnermostPixelLayerSharedHits', 'numberOfInnermostPixelLayerSplitHits', 'numberOfPixelHits', 'numberOfPixelHoles', 'numberOfPixelSharedHits', 'numberOfPixelSplitHits', 'numberOfSCTHits', 'numberOfSCTHoles', 'numberOfSCTSharedHits', 'd0', 'z0SinTheta', 'IP3D_signed_d0_significance', 'IP3D_signed_z0_significance', 'pt', 'eta', 'd0Uncertainty', 'z0SinThetaUncertainty', 'z0RelativeToBeamspot', 'z0RelativeToBeamspotUncertainty', 'deta', 'dphi', 'dr', 'ptfrac', 'valid'])\n"
     ]
    }
   ],
   "source": [
    "# Same for different Tracks datasets\n",
    "tracks = data['tracks']\n",
    "tracks = np.asarray(tracks)\n",
    "print(\"The shape of the dataset (tracks): \" + str(tracks.shape))\n",
    "print(\"The attributes of each element of the dataset (tracks): \" + str(tracks.dtype.fields.keys()))\n",
    "fs_tracks = data['fs_tracks']\n",
    "fs_tracks = np.asarray(fs_tracks)\n",
    "print(\"The shape of the dataset (fs_tracks): \" + str(fs_tracks.shape))\n",
    "print(\"The attributes of each element of the dataset (fs_tracks): \" + str(fs_tracks.dtype.fields.keys()))\n",
    "fs_tracks_simple_ip = data['fs_tracks_simple_ip']\n",
    "fs_tracks_simple_ip = np.asarray(fs_tracks_simple_ip)\n",
    "print(\"The shape of the dataset (fs_tracks_simple_ip): \" + str(fs_tracks_simple_ip.shape))\n",
    "print(\"The attributes of each element of the dataset (fs_tracks_simple_ip): \" + str(fs_tracks_simple_ip.dtype.fields.keys()))"
   ]
  },
  {
   "cell_type": "code",
   "execution_count": 44,
   "id": "af90c7e2-77f2-47c1-b8c9-5b6bb73ce493",
   "metadata": {},
   "outputs": [
    {
     "name": "stdout",
     "output_type": "stream",
     "text": [
      "The number of tracks of the first jet in the (jets) dataset is: 7\n",
      "The number of fs_tracks of the first jet in the (jets) dataset is: 18\n",
      "The number of fs_tracks_simple_ip of the first jet in the (jets) dataset is: 18\n"
     ]
    }
   ],
   "source": [
    "#Printing the track information for just the first jet in the dataset\n",
    "first = jets[0]     #First index is ZERO\n",
    "print(\"The number of tracks of the first jet in the (jets) dataset is: \" + str(first['n_tracks']))\n",
    "print(\"The number of fs_tracks of the first jet in the (jets) dataset is: \" + str(first['n_fs_tracks']))\n",
    "print(\"The number of fs_tracks_simple_ip of the first jet in the (jets) dataset is: \" + str(first['n_fs_tracks_simple_ip']))"
   ]
  },
  {
   "cell_type": "code",
   "execution_count": 46,
   "id": "f798a5e9-7da2-4a21-b24e-45eb8fd7e0da",
   "metadata": {},
   "outputs": [],
   "source": [
    "i = 0\n",
    "indices = []\n",
    "n_validtracks = []\n",
    "for jet in jets:\n",
    "    if jet['n_fs_tracks_simple_ip'] > 40:\n",
    "        indices.append(i);\n",
    "    n_validtracks.append(tracks[i][tracks[i]['valid']].size)\n",
    "    i += 1;"
   ]
  },
  {
   "cell_type": "code",
   "execution_count": 28,
   "id": "cf32617d-25b4-45d9-a937-b55b140e3fed",
   "metadata": {
    "scrolled": true
   },
   "outputs": [
    {
     "data": {
      "text/plain": [
       "102"
      ]
     },
     "execution_count": 28,
     "metadata": {},
     "output_type": "execute_result"
    }
   ],
   "source": [
    "jets[26061]['n_fs_tracks_simple_ip']"
   ]
  },
  {
   "cell_type": "code",
   "execution_count": 29,
   "id": "b16d112a-9f2e-4e4c-994b-f632cb277c8f",
   "metadata": {},
   "outputs": [
    {
     "data": {
      "text/plain": [
       "27"
      ]
     },
     "execution_count": 29,
     "metadata": {},
     "output_type": "execute_result"
    }
   ],
   "source": [
    "tracks[26061][tracks[26061]['valid']].size"
   ]
  },
  {
   "cell_type": "code",
   "execution_count": 63,
   "id": "7a756e5c-f09f-481e-b057-2b5352c0ee59",
   "metadata": {},
   "outputs": [
    {
     "data": {
      "image/png": "[encoded data removed]",
      "text/plain": [
       "<Figure size 640x480 with 1 Axes>"
      ]
     },
     "metadata": {},
     "output_type": "display_data"
    }
   ],
   "source": [
    "#Making histograms for the number of fs_tracks_simple_ip per jet. \n",
    "plt.hist(jets['n_fs_tracks_simple_ip'], range=[0,120], bins=121)\n",
    "plt.ylabel(\"Number of valid fs_tracks_simple_ip per jet\")\n",
    "plt.yscale(\"log\")\n",
    "#plt.legend(loc='upper right')\n",
    "plt.yticks()\n",
    "#plt.title('Histogram for the Number of tracks Per jet for different types of tracks')\n",
    "plt.show()"
   ]
  },
  {
   "cell_type": "code",
   "execution_count": 68,
   "id": "41252c3c-0861-4a47-83cc-632c33ac5123",
   "metadata": {},
   "outputs": [
    {
     "data": {
      "image/png": "[encoded data removed]",
      "text/plain": [
       "<Figure size 640x480 with 1 Axes>"
      ]
     },
     "metadata": {},
     "output_type": "display_data"
    }
   ],
   "source": [
    "#Making histograms for the number of valid fs_tracks_simple_ip per jet. \n",
    "plt.hist(n_validtracks, range=[0,38], bins=39)\n",
    "plt.xlabel(\"Number of valid tracks per jet\")\n",
    "plt.yscale(\"log\")\n",
    "#plt.legend(loc='upper right')\n",
    "plt.yticks()\n",
    "#plt.title('Histogram for the Number of tracks Per jet for different types of tracks')\n",
    "plt.savefig('5.png')\n",
    "#plt.show()"
   ]
  },
  {
   "cell_type": "code",
   "execution_count": null,
   "id": "bd650ef1-59db-4f94-b1f5-cd36adfd3483",
   "metadata": {},
   "outputs": [],
   "source": [
    "#Making histograms for the pT of all the jets in the sample. \n",
    "plt.hist(jets['pt']/1000)\n",
    "plt.xlabel(\"jet pT\", loc=\"right\")\n",
    "plt.yscale(\"log\")\n",
    "#plt.legend(loc='upper right')\n",
    "plt.yticks()\n",
    "#plt.title('Histogram for the Number of tracks Per jet for different types of tracks')\n",
    "#plt.savefig('6.png')\n",
    "plt.show()"
   ]
  },
  {
   "cell_type": "code",
   "execution_count": null,
   "id": "8aa73912-9e06-4432-9361-3e9fd8453b72",
   "metadata": {},
   "outputs": [],
   "source": []
  }
 ],
 "metadata": {
  "kernelspec": {
   "display_name": "Python 3 (ipykernel)",
   "language": "python",
   "name": "python3"
  },
  "language_info": {
   "codemirror_mode": {
    "name": "ipython",
    "version": 3
   },
   "file_extension": ".py",
   "mimetype": "text/x-python",
   "name": "python",
   "nbconvert_exporter": "python",
   "pygments_lexer": "ipython3",
   "version": "3.11.3"
  }
 },
 "nbformat": 4,
 "nbformat_minor": 5
}
