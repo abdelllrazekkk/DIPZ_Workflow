{
 "cells": [
  {
   "cell_type": "markdown",
   "id": "326b084a-d32a-4a5e-a79f-1451fbe4615f",
   "metadata": {
    "editable": true,
    "slideshow": {
     "slide_type": ""
    },
    "tags": []
   },
   "source": [
    "# Getting discriminant variable (MLPL) distributions and jet multiplicities"
   ]
  },
  {
   "cell_type": "code",
   "execution_count": 1,
   "id": "b353d33a-6180-49ab-bf19-a5f8dccd3b78",
   "metadata": {},
   "outputs": [],
   "source": [
    "\"\"\"Importing all needed packages\"\"\"\n",
    "from h5py import File\n",
    "import matplotlib.pyplot as plt\n",
    "import numpy as np\n",
    "import math\n",
    "from scipy.stats import norm\n",
    "import random\n",
    "import itertools as it\n",
    "import time\n",
    "import joblib\n",
    "from plot import plot_distribution\n",
    "from plot import get_jetmultiplicities\n",
    "from a import get_max_log_likelihood_an\n",
    "from a import get_max_log_likelihood_an_hh4b\n",
    "from a import get_max_log_likelihood_dist\n",
    "from a import get_max_log_likelihood_dist_hh4b"
   ]
  },
  {
   "cell_type": "code",
   "execution_count": 2,
   "id": "313ad82b-8041-4754-a4f0-3e19ebbffd1c",
   "metadata": {},
   "outputs": [],
   "source": [
    "\"\"\"Setting up needed parameters\"\"\"\n",
    "comb_num = 2\n",
    "max_num = 50\n",
    "num_highest_pt = 555555"
   ]
  },
  {
   "cell_type": "code",
   "execution_count": 3,
   "id": "f714e896-5a69-4f2d-a8ec-5426ad383659",
   "metadata": {},
   "outputs": [
    {
     "name": "stdout",
     "output_type": "stream",
     "text": [
      "The number of jets in the sample is: 143465\n",
      "The number of jets in the sample with pT < 20 GeV is: 0\n",
      "The number of jets in the sample with eta > 2.5 GeV is: 0\n",
      "The number of events in our sample is: 40832\n",
      "The provided number of four or more jet events in the sample was run over and it is: 50\n",
      "The time of execution of the (get_max_log_likelihood_dist) function for the (../../EBdata.h5) file is : 0.14013565381368 min\n",
      "The number of jets in the sample is: 324069\n",
      "The number of jets in the sample with pT < 20 GeV is: 0\n",
      "The number of jets in the sample with eta > 2.5 GeV is: 0\n",
      "The number of events in our sample is: 49989\n",
      "The provided number of four or more b-jet events in the sample was run over and it is: 50\n",
      "The time of execution of the (get_max_log_likelihood_dist) function is : 0.42122718890508015 min\n",
      "The number of jets in the sample is: 116136\n",
      "The number of jets in the sample with pT < 20 GeV is: 0\n",
      "The number of jets in the sample with eta > 2.5 GeV is: 0\n",
      "The number of events in our sample is: 39883\n",
      "The provided number of four or more jet events in the sample was run over and it is: 50\n",
      "The time of execution of the (get_max_log_likelihood_dist) function for the (../../jz0.h5) file is : 0.278324282169342 min\n",
      "The number of jets in the sample is: 168465\n",
      "The number of jets in the sample with pT < 20 GeV is: 0\n",
      "The number of jets in the sample with eta > 2.5 GeV is: 0\n",
      "The number of events in our sample is: 46842\n",
      "The provided number of four or more jet events in the sample was run over and it is: 50\n",
      "The time of execution of the (get_max_log_likelihood_dist) function for the (../../jz1.h5) file is : 0.28937071561813354 min\n",
      "The number of jets in the sample is: 229572\n",
      "The number of jets in the sample with pT < 20 GeV is: 0\n",
      "The number of jets in the sample with eta > 2.5 GeV is: 0\n",
      "The number of events in our sample is: 49717\n",
      "The provided number of four or more jet events in the sample was run over and it is: 50\n",
      "The time of execution of the (get_max_log_likelihood_dist) function for the (../../jz2.h5) file is : 0.21781466007232667 min\n",
      "The number of jets in the sample is: 279265\n",
      "The number of jets in the sample with pT < 20 GeV is: 0\n",
      "The number of jets in the sample with eta > 2.5 GeV is: 0\n",
      "The number of events in our sample is: 49978\n",
      "The provided number of four or more jet events in the sample was run over and it is: 50\n",
      "The time of execution of the (get_max_log_likelihood_dist) function for the (../../jz3.h5) file is : 0.21302123467127482 min\n",
      "The number of jets in the sample is: 316174\n",
      "The number of jets in the sample with pT < 20 GeV is: 0\n",
      "The number of jets in the sample with eta > 2.5 GeV is: 0\n",
      "The number of events in our sample is: 50000\n",
      "The provided number of four or more jet events in the sample was run over and it is: 50\n",
      "The time of execution of the (get_max_log_likelihood_dist) function for the (../../jz4.h5) file is : 0.23246015707651774 min\n",
      "The number of jets in the sample is: 331308\n",
      "The number of jets in the sample with pT < 20 GeV is: 0\n",
      "The number of jets in the sample with eta > 2.5 GeV is: 0\n",
      "The number of events in our sample is: 50000\n",
      "The provided number of four or more jet events in the sample was run over and it is: 50\n",
      "The time of execution of the (get_max_log_likelihood_dist) function for the (../../jz5.h5) file is : 0.25913519064585366 min\n"
     ]
    },
    {
     "data": {
      "text/plain": [
       "['jz5_multiplicities.sav']"
      ]
     },
     "execution_count": 3,
     "metadata": {},
     "output_type": "execute_result"
    }
   ],
   "source": [
    "EB_dist, EB_multiplicities = get_max_log_likelihood_dist(\"../../EBdata.h5\", comb_num, max_num, num_highest_pt)\n",
    "joblib.dump(EB_dist, 'EB_dist.sav')\n",
    "joblib.dump(EB_multiplicities, 'EB_multiplicities.sav')\n",
    "hh4b_dist, hh4b_multiplicities, num_bjets_chosen_list= get_max_log_likelihood_dist_hh4b(\"../../hh4b.h5\", comb_num, max_num, num_highest_pt)\n",
    "joblib.dump(hh4b_dist, 'hh4b_dist_nofake.sav')\n",
    "joblib.dump(hh4b_multiplicities, 'hh4b_multiplicities.sav')\n",
    "joblib.dump(num_bjets_chosen_list, 'num_bjets_chosen_list.sav')\n",
    "jz0_dist, jz0_multiplicities = get_max_log_likelihood_dist(\"../../jz0.h5\", comb_num, max_num, num_highest_pt)\n",
    "joblib.dump(jz0_dist, 'jz0_dist.sav')\n",
    "joblib.dump(jz0_multiplicities, 'jz0_multiplicities.sav')\n",
    "jz1_dist, jz1_multiplicities = get_max_log_likelihood_dist(\"../../jz1.h5\", comb_num, max_num, num_highest_pt)\n",
    "joblib.dump(jz1_dist, 'jz1_dist.sav')\n",
    "joblib.dump(jz1_multiplicities, 'jz1_multiplicities.sav')\n",
    "jz2_dist, jz2_multiplicities = get_max_log_likelihood_dist(\"../../jz2.h5\", comb_num, max_num, num_highest_pt)\n",
    "joblib.dump(jz2_dist, 'jz2_dist.sav')\n",
    "joblib.dump(jz2_multiplicities, 'jz2_multiplicities.sav')\n",
    "jz3_dist, jz3_multiplicities = get_max_log_likelihood_dist(\"../../jz3.h5\", comb_num, max_num, num_highest_pt)\n",
    "joblib.dump(jz3_dist, 'jz3_dist.sav')\n",
    "joblib.dump(jz3_multiplicities, 'jz3_multiplicities.sav')\n",
    "jz4_dist, jz4_multiplicities = get_max_log_likelihood_dist(\"../../jz4.h5\", comb_num, max_num, num_highest_pt)\n",
    "joblib.dump(jz4_dist, 'jz4_dist.sav')\n",
    "joblib.dump(jz4_multiplicities, 'jz4_multiplicities.sav')\n",
    "jz5_dist, jz5_multiplicities = get_max_log_likelihood_dist(\"../../jz5.h5\", comb_num, max_num, num_highest_pt)\n",
    "joblib.dump(jz5_dist, 'jz5_dist.sav')\n",
    "joblib.dump(jz5_multiplicities, 'jz5_multiplicities.sav')"
   ]
  }
 ],
 "metadata": {
  "kernelspec": {
   "display_name": "Python 3 (ipykernel)",
   "language": "python",
   "name": "python3"
  },
  "language_info": {
   "codemirror_mode": {
    "name": "ipython",
    "version": 3
   },
   "file_extension": ".py",
   "mimetype": "text/x-python",
   "name": "python",
   "nbconvert_exporter": "python",
   "pygments_lexer": "ipython3",
   "version": "3.11.3"
  }
 },
 "nbformat": 4,
 "nbformat_minor": 5
}
